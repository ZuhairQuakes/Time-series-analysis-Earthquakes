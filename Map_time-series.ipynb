{
 "cells": [
  {
   "cell_type": "code",
   "execution_count": 1,
   "metadata": {},
   "outputs": [],
   "source": [
    "import pandas as pd\n",
    "import numpy as np\n",
    "from numpy import diff\n",
    "\n",
    "import matplotlib.pyplot as plt\n",
    "from matplotlib.lines import Line2D\n",
    "import ternary # ternary plot has a bug\n",
    "import plotly.express as px\n",
    "import h5py\n",
    "import matplotlib as mpl\n",
    "\n",
    "# import geopandas as gpd\n",
    "import math\n",
    "\n",
    "from matplotlib.patches import Circle, Wedge, Polygon\n",
    "\n",
    "import os\n",
    "import matplotlib.patheffects as path_effects\n",
    "\n",
    "\n",
    "from netCDF4 import Dataset as NetCDFFile \n",
    "\n",
    "# for beachball - there are some error with using obspy\n",
    "from pyrocko.plot import beachball\n",
    "from pyrocko import moment_tensor as ptm\n",
    "\n",
    "import cartopy.crs as ccrs\n",
    "import cartopy.mpl.geoaxes\n",
    "\n",
    "from mpl_toolkits.axes_grid1.inset_locator import inset_axes\n",
    "from cartopy.mpl.gridliner import LONGITUDE_FORMATTER, LATITUDE_FORMATTER\n",
    "import matplotlib.ticker as mticker\n",
    "from pathlib import Path\n",
    "%matplotlib inline\n",
    "\n",
    "import harmonica as hm\n",
    "\n",
    "from obspy.core import UTCDateTime\n",
    "\n",
    "from datetime import datetime, timezone\n",
    "\n",
    "import seaborn as sns\n",
    "sns.set()\n",
    "sns.set_style(style='white') \n",
    "sns.set_style(\"ticks\", {\"xtick.major.size\": 0.5, \"ytick.major.size\": 0.5})\n",
    "\n",
    "\n",
    "# set the font globally\n",
    "plt.rcParams.update({'font.family':'Helvetica'})"
   ]
  },
  {
   "cell_type": "code",
   "execution_count": 2,
   "metadata": {},
   "outputs": [],
   "source": [
    "# load earthquake data from a CSV file using pandas\n",
    "data = pd.read_csv(\"/Users/mohd0001/PhD_Monash/Paper2/time-series/data/SUeq_data.csv\", header = 'infer')"
   ]
  },
  {
   "cell_type": "code",
   "execution_count": 3,
   "metadata": {},
   "outputs": [],
   "source": [
    "# data = data[(data['MW'] >= 5.1)]\n",
    "\n",
    "data.sort_values(by = 'MW', ascending = False, inplace = True)\n",
    "\n",
    "data['DATE'] = pd.to_datetime(data['DATE']) # change dtype to datetime format\n",
    "data['DATE'] = data['DATE'].dt.strftime('%Y-%m-%d') # change dtype to object\n",
    "\n",
    "# data['DATE'] and data['TIME'] should be object (str) to perform + operator\n",
    "\n",
    "data_dummy = np.array(data['DATE'] + ' ' + data['TIME'])\n",
    "\n",
    "data_ev_time = []\n",
    "\n",
    "for val in data_dummy:\n",
    "    data_ev_time.append(UTCDateTime(val))\n",
    "\n",
    "    \n",
    "ref_date = data_ev_time[0]\n",
    "\n",
    "data_ev_time = np.array(data_ev_time)\n",
    "\n",
    "date = []\n",
    "\n",
    "for val in data_ev_time:\n",
    "    date.append(val - ref_date)\n",
    "    \n",
    "date = np.array(date) # this is in seconds\n",
    "\n",
    "data['YEARS'] = date/31536000\n",
    "\n",
    "data = data.sort_values(by ='YEARS', ascending=True) # this is an important step\n",
    "# data = data[(data['DATE'] > '01-01-2003') & (data['DATE'] < '26-11-2004')]"
   ]
  },
  {
   "cell_type": "code",
   "execution_count": 4,
   "metadata": {},
   "outputs": [],
   "source": [
    "data_dgoing_java = data[(data['LAT'] < -2) &\n",
    "                         (data['DEPTH'] > 70)]"
   ]
  },
  {
   "cell_type": "code",
   "execution_count": 5,
   "metadata": {
    "scrolled": false
   },
   "outputs": [
    {
     "ename": "ImportError",
     "evalue": "cannot import name 'dedent' from 'matplotlib.cbook' (/Users/mohd0001/opt/anaconda3/lib/python3.7/site-packages/matplotlib/cbook/__init__.py)",
     "output_type": "error",
     "traceback": [
      "\u001b[0;31m---------------------------------------------------------------------------\u001b[0m",
      "\u001b[0;31mImportError\u001b[0m                               Traceback (most recent call last)",
      "\u001b[0;32m<ipython-input-5-74eff53c9b6d>\u001b[0m in \u001b[0;36m<module>\u001b[0;34m\u001b[0m\n\u001b[0;32m----> 1\u001b[0;31m \u001b[0;32mfrom\u001b[0m \u001b[0mmpl_toolkits\u001b[0m\u001b[0;34m.\u001b[0m\u001b[0mbasemap\u001b[0m \u001b[0;32mimport\u001b[0m \u001b[0mBasemap\u001b[0m\u001b[0;34m\u001b[0m\u001b[0;34m\u001b[0m\u001b[0m\n\u001b[0m\u001b[1;32m      2\u001b[0m \u001b[0;34m\u001b[0m\u001b[0m\n\u001b[1;32m      3\u001b[0m \u001b[0;31m# Initialize the basemap\u001b[0m\u001b[0;34m\u001b[0m\u001b[0;34m\u001b[0m\u001b[0;34m\u001b[0m\u001b[0m\n\u001b[1;32m      4\u001b[0m m = Basemap(projection='mill',llcrnrlat=-90,urcrnrlat=90,\\\n\u001b[1;32m      5\u001b[0m             llcrnrlon=-180,urcrnrlon=180,resolution='c')\n",
      "\u001b[0;32m~/opt/anaconda3/lib/python3.7/site-packages/mpl_toolkits/basemap/__init__.py\u001b[0m in \u001b[0;36m<module>\u001b[0;34m\u001b[0m\n\u001b[1;32m     24\u001b[0m \u001b[0;34m\u001b[0m\u001b[0m\n\u001b[1;32m     25\u001b[0m \u001b[0;32mfrom\u001b[0m \u001b[0mmatplotlib\u001b[0m \u001b[0;32mimport\u001b[0m \u001b[0m__version__\u001b[0m \u001b[0;32mas\u001b[0m \u001b[0m_matplotlib_version\u001b[0m\u001b[0;34m\u001b[0m\u001b[0;34m\u001b[0m\u001b[0m\n\u001b[0;32m---> 26\u001b[0;31m \u001b[0;32mfrom\u001b[0m \u001b[0mmatplotlib\u001b[0m\u001b[0;34m.\u001b[0m\u001b[0mcbook\u001b[0m \u001b[0;32mimport\u001b[0m \u001b[0mdedent\u001b[0m\u001b[0;34m\u001b[0m\u001b[0;34m\u001b[0m\u001b[0m\n\u001b[0m\u001b[1;32m     27\u001b[0m \u001b[0;31m# check to make sure matplotlib is not too old.\u001b[0m\u001b[0;34m\u001b[0m\u001b[0;34m\u001b[0m\u001b[0;34m\u001b[0m\u001b[0m\n\u001b[1;32m     28\u001b[0m \u001b[0m_matplotlib_version\u001b[0m \u001b[0;34m=\u001b[0m \u001b[0mLooseVersion\u001b[0m\u001b[0;34m(\u001b[0m\u001b[0m_matplotlib_version\u001b[0m\u001b[0;34m)\u001b[0m\u001b[0;34m\u001b[0m\u001b[0;34m\u001b[0m\u001b[0m\n",
      "\u001b[0;31mImportError\u001b[0m: cannot import name 'dedent' from 'matplotlib.cbook' (/Users/mohd0001/opt/anaconda3/lib/python3.7/site-packages/matplotlib/cbook/__init__.py)"
     ]
    }
   ],
   "source": [
    "from mpl_toolkits.basemap import Basemap\n",
    "\n",
    "# Initialize the basemap\n",
    "m = Basemap(projection='mill',llcrnrlat=-90,urcrnrlat=90,\\\n",
    "            llcrnrlon=-180,urcrnrlon=180,resolution='c')\n",
    "\n",
    "# Draw coastlines, countries, and states\n",
    "m.drawcoastlines()\n",
    "m.drawcountries()\n",
    "m.drawstates()\n",
    "\n",
    "# Convert longitude and latitude to map coordinates\n",
    "x, y = m(data_dgoing_java['LON'].values, data_dgoing_java['LAT'].values)\n",
    "\n",
    "# Plot earthquakes as red circles with size proportional to magnitude\n",
    "m.scatter(x, y, s=data_dgoing_java['MW']*5, color='red', alpha=0.5)\n",
    "\n",
    "# Show the plot\n",
    "plt.show()"
   ]
  },
  {
   "cell_type": "code",
   "execution_count": 6,
   "metadata": {},
   "outputs": [
    {
     "name": "stdout",
     "output_type": "stream",
     "text": [
      "3.5.3\n"
     ]
    }
   ],
   "source": [
    "import matplotlib\n",
    "print(matplotlib.__version__)"
   ]
  },
  {
   "cell_type": "code",
   "execution_count": null,
   "metadata": {},
   "outputs": [],
   "source": []
  }
 ],
 "metadata": {
  "kernelspec": {
   "display_name": "Python 3",
   "language": "python",
   "name": "python3"
  },
  "language_info": {
   "codemirror_mode": {
    "name": "ipython",
    "version": 3
   },
   "file_extension": ".py",
   "mimetype": "text/x-python",
   "name": "python",
   "nbconvert_exporter": "python",
   "pygments_lexer": "ipython3",
   "version": "3.7.6"
  }
 },
 "nbformat": 4,
 "nbformat_minor": 4
}
