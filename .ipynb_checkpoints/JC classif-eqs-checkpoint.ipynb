{
 "cells": [
  {
   "cell_type": "markdown",
   "metadata": {},
   "source": [
    "# Classify earthquakes\n",
    "- This piece of code is for classifying earthquakes according to their focal mechanism\n",
    "- Method from Frohlich and Apperson 1992\n",
    "- Author: JCG"
   ]
  },
  {
   "cell_type": "code",
   "execution_count": 2,
   "metadata": {},
   "outputs": [],
   "source": [
    "import pandas as pd\n",
    "import numpy as np"
   ]
  },
  {
   "cell_type": "code",
   "execution_count": 6,
   "metadata": {},
   "outputs": [
    {
     "data": {
      "text/html": [
       "<div>\n",
       "<style scoped>\n",
       "    .dataframe tbody tr th:only-of-type {\n",
       "        vertical-align: middle;\n",
       "    }\n",
       "\n",
       "    .dataframe tbody tr th {\n",
       "        vertical-align: top;\n",
       "    }\n",
       "\n",
       "    .dataframe thead th {\n",
       "        text-align: right;\n",
       "    }\n",
       "</style>\n",
       "<table border=\"1\" class=\"dataframe\">\n",
       "  <thead>\n",
       "    <tr style=\"text-align: right;\">\n",
       "      <th></th>\n",
       "      <th>LON</th>\n",
       "      <th>LAT</th>\n",
       "      <th>DEPTH</th>\n",
       "      <th>DATE</th>\n",
       "      <th>TIME</th>\n",
       "      <th>EVENT_ID</th>\n",
       "      <th>DEPFIX</th>\n",
       "      <th>DEPQUAL</th>\n",
       "      <th>EX</th>\n",
       "      <th>MO</th>\n",
       "      <th>...</th>\n",
       "      <th>P_AZM</th>\n",
       "      <th>N_VAL</th>\n",
       "      <th>N_PL</th>\n",
       "      <th>N_AZM</th>\n",
       "      <th>SLAB_DIP</th>\n",
       "      <th>CLASS</th>\n",
       "      <th>LON_AVE</th>\n",
       "      <th>LAT_AVE</th>\n",
       "      <th>S_AVE</th>\n",
       "      <th>N_AVE</th>\n",
       "    </tr>\n",
       "  </thead>\n",
       "  <tbody>\n",
       "    <tr>\n",
       "      <th>0</th>\n",
       "      <td>142.671</td>\n",
       "      <td>38.228</td>\n",
       "      <td>14.0</td>\n",
       "      <td>2011-03-11</td>\n",
       "      <td>05:46:21.86</td>\n",
       "      <td>558</td>\n",
       "      <td>False</td>\n",
       "      <td>L1</td>\n",
       "      <td>22.0</td>\n",
       "      <td>5.312</td>\n",
       "      <td>...</td>\n",
       "      <td>115.0</td>\n",
       "      <td>0.014</td>\n",
       "      <td>0.0</td>\n",
       "      <td>205.0</td>\n",
       "      <td>11.846660</td>\n",
       "      <td>MTHRUST</td>\n",
       "      <td>142.505228</td>\n",
       "      <td>38.266056</td>\n",
       "      <td>275.0</td>\n",
       "      <td>-125.0</td>\n",
       "    </tr>\n",
       "    <tr>\n",
       "      <th>1</th>\n",
       "      <td>153.285</td>\n",
       "      <td>46.589</td>\n",
       "      <td>15.0</td>\n",
       "      <td>2006-11-15</td>\n",
       "      <td>11:14:14.38</td>\n",
       "      <td>561</td>\n",
       "      <td>1.0</td>\n",
       "      <td>L1</td>\n",
       "      <td>21.0</td>\n",
       "      <td>3.508</td>\n",
       "      <td>...</td>\n",
       "      <td>123.0</td>\n",
       "      <td>-0.036</td>\n",
       "      <td>1.0</td>\n",
       "      <td>33.0</td>\n",
       "      <td>11.419228</td>\n",
       "      <td>MTHRUST</td>\n",
       "      <td>153.245522</td>\n",
       "      <td>46.618583</td>\n",
       "      <td>1565.0</td>\n",
       "      <td>-75.0</td>\n",
       "    </tr>\n",
       "    <tr>\n",
       "      <th>2</th>\n",
       "      <td>143.861</td>\n",
       "      <td>41.866</td>\n",
       "      <td>27.0</td>\n",
       "      <td>2003-09-25</td>\n",
       "      <td>19:50:08.01</td>\n",
       "      <td>559</td>\n",
       "      <td>1.0</td>\n",
       "      <td>L1</td>\n",
       "      <td>21.0</td>\n",
       "      <td>3.054</td>\n",
       "      <td>...</td>\n",
       "      <td>124.0</td>\n",
       "      <td>0.145</td>\n",
       "      <td>7.0</td>\n",
       "      <td>29.0</td>\n",
       "      <td>20.001219</td>\n",
       "      <td>MTHRUST</td>\n",
       "      <td>143.792413</td>\n",
       "      <td>41.918943</td>\n",
       "      <td>615.0</td>\n",
       "      <td>-125.0</td>\n",
       "    </tr>\n",
       "    <tr>\n",
       "      <th>3</th>\n",
       "      <td>147.340</td>\n",
       "      <td>43.842</td>\n",
       "      <td>35.0</td>\n",
       "      <td>1994-10-04</td>\n",
       "      <td>13:23:00.44</td>\n",
       "      <td>560</td>\n",
       "      <td>1.0</td>\n",
       "      <td>L1</td>\n",
       "      <td>21.0</td>\n",
       "      <td>3.000</td>\n",
       "      <td>...</td>\n",
       "      <td>112.0</td>\n",
       "      <td>0.120</td>\n",
       "      <td>37.0</td>\n",
       "      <td>218.0</td>\n",
       "      <td>26.525564</td>\n",
       "      <td>MTHRUST</td>\n",
       "      <td>147.366045</td>\n",
       "      <td>43.766564</td>\n",
       "      <td>985.0</td>\n",
       "      <td>-125.0</td>\n",
       "    </tr>\n",
       "    <tr>\n",
       "      <th>4</th>\n",
       "      <td>149.247</td>\n",
       "      <td>44.721</td>\n",
       "      <td>30.0</td>\n",
       "      <td>1995-12-03</td>\n",
       "      <td>18:01:10.18</td>\n",
       "      <td>563</td>\n",
       "      <td>False</td>\n",
       "      <td>L1</td>\n",
       "      <td>20.0</td>\n",
       "      <td>8.240</td>\n",
       "      <td>...</td>\n",
       "      <td>131.0</td>\n",
       "      <td>0.320</td>\n",
       "      <td>1.0</td>\n",
       "      <td>40.0</td>\n",
       "      <td>24.044151</td>\n",
       "      <td>MTHRUST</td>\n",
       "      <td>149.188297</td>\n",
       "      <td>44.877321</td>\n",
       "      <td>1165.0</td>\n",
       "      <td>-125.0</td>\n",
       "    </tr>\n",
       "  </tbody>\n",
       "</table>\n",
       "<p>5 rows × 40 columns</p>\n",
       "</div>"
      ],
      "text/plain": [
       "       LON     LAT  DEPTH        DATE         TIME  EVENT_ID DEPFIX DEPQUAL  \\\n",
       "0  142.671  38.228   14.0  2011-03-11  05:46:21.86       558  False      L1   \n",
       "1  153.285  46.589   15.0  2006-11-15  11:14:14.38       561    1.0      L1   \n",
       "2  143.861  41.866   27.0  2003-09-25  19:50:08.01       559    1.0      L1   \n",
       "3  147.340  43.842   35.0  1994-10-04  13:23:00.44       560    1.0      L1   \n",
       "4  149.247  44.721   30.0  1995-12-03  18:01:10.18       563  False      L1   \n",
       "\n",
       "     EX     MO  ...    P_AZM  N_VAL  N_PL  N_AZM   SLAB_DIP    CLASS  \\\n",
       "0  22.0  5.312  ...    115.0  0.014   0.0  205.0  11.846660  MTHRUST   \n",
       "1  21.0  3.508  ...    123.0 -0.036   1.0   33.0  11.419228  MTHRUST   \n",
       "2  21.0  3.054  ...    124.0  0.145   7.0   29.0  20.001219  MTHRUST   \n",
       "3  21.0  3.000  ...    112.0  0.120  37.0  218.0  26.525564  MTHRUST   \n",
       "4  20.0  8.240  ...    131.0  0.320   1.0   40.0  24.044151  MTHRUST   \n",
       "\n",
       "      LON_AVE    LAT_AVE   S_AVE  N_AVE  \n",
       "0  142.505228  38.266056   275.0 -125.0  \n",
       "1  153.245522  46.618583  1565.0  -75.0  \n",
       "2  143.792413  41.918943   615.0 -125.0  \n",
       "3  147.366045  43.766564   985.0 -125.0  \n",
       "4  149.188297  44.877321  1165.0 -125.0  \n",
       "\n",
       "[5 rows x 40 columns]"
      ]
     },
     "execution_count": 6,
     "metadata": {},
     "output_type": "execute_result"
    }
   ],
   "source": [
    "# infile = \"/Users/jgra0019/Documents/phd_data/kur_fm/kur_combi_net_10km_step.csv\" # file containing the earthquake dataframe - must have the T,N,P plunge values\n",
    "# outfile = \"./test.csv\" # output file \n",
    "\n",
    "# eq_df = pd.read_csv(infile, header = 'infer')\n",
    "# # drop duplicates\n",
    "# eq_df = eq_df.drop_duplicates(subset='EVENT_ID', keep = 'last') # keep last (probably updates)\n",
    "# eq_df.head()"
   ]
  },
  {
   "cell_type": "code",
   "execution_count": 19,
   "metadata": {},
   "outputs": [],
   "source": [
    "# infile = \"/Users/jgra0019/Documents/phd_data/kur_fm/kur_combi_net_10km_step.csv\" # file containing the earthquake dataframe - must have the T,N,P plunge values\n",
    "\n",
    "eq_df = pd.read_csv('alu_combi_net_10km_step.csv', header = 'infer')\n",
    "outfile = \"./alu_eqs.csv\" # output file \n",
    "\n",
    "# drop duplicates\n",
    "eq_df = eq_df.drop_duplicates(subset='EVENT_ID', keep = 'last') # keep last (probably updates)\n",
    "# eq_df.head()"
   ]
  },
  {
   "cell_type": "code",
   "execution_count": 20,
   "metadata": {},
   "outputs": [
    {
     "data": {
      "text/plain": [
       "(1440, 44)"
      ]
     },
     "execution_count": 20,
     "metadata": {},
     "output_type": "execute_result"
    }
   ],
   "source": [
    "# try to be strict first with the classification - follow Frohlich 1992\n",
    "sin_thrust = (np.sin(eq_df['T_PL']*np.pi/180))**2\n",
    "sin_ss = (np.sin(eq_df['N_PL']*np.pi/180))**2\n",
    "sin_norm = (np.sin(eq_df['P_PL']*np.pi/180))**2\n",
    "\n",
    "classif = []\n",
    "\n",
    "for thrust, ss, norm in zip(sin_thrust, sin_ss, sin_norm):\n",
    "    if thrust > 0.59:\n",
    "    #if max(thrust, ss, norm) == thrust:\n",
    "        classif.append('THRUST')\n",
    "    elif norm > 0.75:\n",
    "    #elif max(thrust, ss, norm) == norm:\n",
    "        classif.append('NORM')\n",
    "    elif ss > 0.75:\n",
    "    #elif max(thrust, ss, norm) == ss:\n",
    "        classif.append('SS')\n",
    "    else:\n",
    "        if thrust > norm and ss > norm:\n",
    "            classif.append('O_THRUST')\n",
    "        elif norm > thrust and ss > thrust:\n",
    "            classif.append('O_NORM')\n",
    "        else:\n",
    "            classif.append('ODD')\n",
    "\n",
    "eq_df['SINSQ_T'] = sin_thrust\n",
    "eq_df['SINSQ_SS'] = sin_ss\n",
    "eq_df['SINSQ_N'] = sin_norm\n",
    "eq_df['TYPE'] = classif\n",
    "len(classif)\n",
    "eq_df.shape"
   ]
  },
  {
   "cell_type": "code",
   "execution_count": 21,
   "metadata": {},
   "outputs": [
    {
     "data": {
      "text/plain": [
       "Index(['LON', 'LAT', 'DEPTH', 'DATE', 'TIME', 'EVENT_ID', 'DEPFIX', 'DEPQUAL',\n",
       "       'EX', 'MO', 'MW', 'EX.1', 'MRR', 'MTT', 'MPP', 'MRT', 'MTP', 'MPR',\n",
       "       'STRIKE', 'DIP', 'RAKE', 'STRIKE.1', 'DIP.1', 'RAKE.1', 'EX.2', 'T_VAL',\n",
       "       'T_PL', 'T_AZM', 'P_VAL', 'P_PL', 'P_AZM', 'N_VAL', 'N_PL', 'N_AZM',\n",
       "       'SLAB_DIP', 'CLASS', 'LON_AVE', 'LAT_AVE', 'S_AVE', 'N_AVE', 'SINSQ_T',\n",
       "       'SINSQ_SS', 'SINSQ_N', 'TYPE'],\n",
       "      dtype='object')"
      ]
     },
     "execution_count": 21,
     "metadata": {},
     "output_type": "execute_result"
    }
   ],
   "source": [
    "eq_df.columns"
   ]
  },
  {
   "cell_type": "code",
   "execution_count": 22,
   "metadata": {},
   "outputs": [],
   "source": [
    "# save to output file\n",
    "eq_df.to_csv(outfile, header = True, index = False)"
   ]
  },
  {
   "cell_type": "code",
   "execution_count": 28,
   "metadata": {},
   "outputs": [
    {
     "data": {
      "application/javascript": [
       "window.require && require([\"base/js/namespace\"],function(Jupyter){Jupyter.notebook.save_checkpoint()})"
      ],
      "text/plain": [
       "<IPython.core.display.Javascript object>"
      ]
     },
     "metadata": {},
     "output_type": "display_data"
    },
    {
     "name": "stdout",
     "output_type": "stream",
     "text": [
      "[jovian] Attempting to save notebook..\n",
      "[jovian] Uploading notebook..\n",
      "[jovian] Capturing environment..\n",
      "[jovian] Committed successfully! https://jovian.ai/zuhair-alig31/jc-classif-eqs\n"
     ]
    },
    {
     "data": {
      "text/plain": [
       "'https://jovian.ai/zuhair-alig31/jc-classif-eqs'"
      ]
     },
     "execution_count": 28,
     "metadata": {},
     "output_type": "execute_result"
    }
   ],
   "source": [
    "jovian.commit()"
   ]
  },
  {
   "cell_type": "code",
   "execution_count": null,
   "metadata": {},
   "outputs": [],
   "source": []
  }
 ],
 "metadata": {
  "kernelspec": {
   "display_name": "Python 3",
   "language": "python",
   "name": "python3"
  },
  "language_info": {
   "codemirror_mode": {
    "name": "ipython",
    "version": 3
   },
   "file_extension": ".py",
   "mimetype": "text/x-python",
   "name": "python",
   "nbconvert_exporter": "python",
   "pygments_lexer": "ipython3",
   "version": "3.7.6"
  }
 },
 "nbformat": 4,
 "nbformat_minor": 2
}
