{
 "cells": [
  {
   "cell_type": "markdown",
   "metadata": {},
   "source": [
    "# Visualize the slab and the earthquake events"
   ]
  },
  {
   "cell_type": "code",
   "execution_count": 80,
   "metadata": {},
   "outputs": [],
   "source": [
    "import numpy as np\n",
    "import pandas as pd\n",
    "import matplotlib.pyplot as plt\n",
    "\n",
    "import vis_pkg\n",
    "import plotly\n",
    "import plotly.graph_objects as go\n",
    "from plotly.offline import plot"
   ]
  },
  {
   "cell_type": "markdown",
   "metadata": {},
   "source": [
    "# Define functions to use"
   ]
  },
  {
   "cell_type": "code",
   "execution_count": 81,
   "metadata": {},
   "outputs": [],
   "source": [
    "def rotate_vec(aor_vec, vec, theta):\n",
    "    \n",
    "    \"\"\"\n",
    "    Rotate vec by angle theta around aor_vec\n",
    "    All vectors are in cartesian coordinates and written as (x, y, z)\n",
    "    Theta should already be following the right-hand rule and in radians already\n",
    "    Function will normalize the aor_vec and vec and will convert theta to radians\n",
    "    \"\"\"\n",
    "    \n",
    "    theta_rad = np.pi*theta/180\n",
    "    \n",
    "    # normalize the input vectors \n",
    "    aor_vec_mag = np.sqrt(np.dot(aor_vec, aor_vec))\n",
    "    norm_aor = aor_vec/aor_vec_mag\n",
    "    vec_mag = np.sqrt(np.dot(vec, vec))\n",
    "    norm_vec = vec/vec_mag\n",
    "    \n",
    "    # to make life easy\n",
    "    kx = norm_aor[0]\n",
    "    ky = norm_aor[1]\n",
    "    kz = norm_aor[2]\n",
    "    \n",
    "    k_mat = np.array([[0, -kz, ky], [kz, 0, -kx], [-ky, kx, 0]])\n",
    "    \n",
    "    r_mat = np.identity(3) + np.sin(theta_rad)*k_mat + (1-np.cos(theta_rad))*np.matmul(k_mat, k_mat)\n",
    "    \n",
    "    rot_vec = vec_mag*np.matmul(r_mat, norm_vec)\n",
    "    \n",
    "    return rot_vec"
   ]
  },
  {
   "cell_type": "markdown",
   "metadata": {},
   "source": [
    "# Read the needed data"
   ]
  },
  {
   "cell_type": "code",
   "execution_count": 82,
   "metadata": {},
   "outputs": [],
   "source": [
    "eq_fname = '/Users/jgra0019/Documents/phd_data/focal_meca/ISC_data/clean_isc_gcmt_data.csv'\n",
    "slab_xyz = '/Users/jgra0019/Documents/phd_data/sumatra_slab/sum_slab2_dep_02.23.18.xyz'\n",
    "trench_xy = '/Users/jgra0019/Documents/phd_data/trench/sumatra_trench_inv.txt'\n",
    "\n",
    "\n",
    "# need to be careful with the data\n",
    "eq_df = pd.read_csv(eq_fname)\n",
    "trench_df = pd.read_csv(trench_xy, sep=',', header = None)\n",
    "slab_df = pd.read_csv(slab_xyz, header = None)\n",
    "slab_df = slab_df[~slab_df[2].isnull()] # remove null values\n",
    "\n",
    "trench_df.columns = ['LON', 'LAT']\n",
    "slab_df.columns = ['LON', 'LAT', 'DEPTH']    "
   ]
  },
  {
   "cell_type": "code",
   "execution_count": 83,
   "metadata": {},
   "outputs": [
    {
     "data": {
      "text/plain": [
       "-3.1468403339399997"
      ]
     },
     "execution_count": 83,
     "metadata": {},
     "output_type": "execute_result"
    }
   ],
   "source": [
    "slab_df['DEPTH'].max()"
   ]
  },
  {
   "cell_type": "markdown",
   "metadata": {},
   "source": [
    "# Plot the slab, trench and events\n",
    "- Convert slab, trench, events to cartesian\n",
    "- Plot slab as a surface: done\n",
    "- Plot trench as a line: done\n",
    "- Plot events as points: done\n",
    "- Plot events as lines showing the tension and compression axes"
   ]
  },
  {
   "cell_type": "markdown",
   "metadata": {},
   "source": [
    "### Step 1: convert data to cartesian"
   ]
  },
  {
   "cell_type": "code",
   "execution_count": 84,
   "metadata": {},
   "outputs": [],
   "source": [
    "r_earth = 6371 # in km\n",
    "\n",
    "# slab dataframe\n",
    "slab_df['DEPTH'] = r_earth + slab_df['DEPTH']\n",
    "slab_df['LON'] = np.pi*slab_df['LON']/180\n",
    "slab_df['LAT'] = np.pi*slab_df['LAT']/180\n",
    "\n",
    "slab_df['X'] = slab_df['DEPTH']*np.cos(slab_df['LON'])*np.sin(0.5*np.pi - slab_df['LAT'])\n",
    "slab_df['Y'] = slab_df['DEPTH']*np.sin(slab_df['LON'])*np.sin(0.5*np.pi - slab_df['LAT'])\n",
    "slab_df['Z'] = slab_df['DEPTH']*np.cos(0.5*np.pi - slab_df['LAT'])\n",
    "\n",
    "# trench data frame\n",
    "trench_df['DEPTH'] = r_earth\n",
    "trench_df['LON'] = np.pi*trench_df['LON']/180\n",
    "trench_df['LAT'] = np.pi*trench_df['LAT']/180\n",
    "\n",
    "trench_df['X'] = trench_df['DEPTH']*np.cos(trench_df['LON'])*np.sin(0.5*np.pi - trench_df['LAT'])\n",
    "trench_df['Y'] = trench_df['DEPTH']*np.sin(trench_df['LON'])*np.sin(0.5*np.pi - trench_df['LAT'])\n",
    "trench_df['Z'] = trench_df['DEPTH']*np.cos(0.5*np.pi - trench_df['LAT'])\n",
    "\n",
    "# earthquake data frame\n",
    "eq_df['DEPTH'] = r_earth - eq_df['DEPTH']\n",
    "eq_df['LON'] = np.pi*eq_df['LON']/180\n",
    "eq_df['LAT'] = np.pi*eq_df['LAT']/180\n",
    "\n",
    "eq_df['X'] = eq_df['DEPTH']*np.cos(eq_df['LON'])*np.sin(0.5*np.pi - eq_df['LAT'])\n",
    "eq_df['Y'] = eq_df['DEPTH']*np.sin(eq_df['LON'])*np.sin(0.5*np.pi - eq_df['LAT'])\n",
    "eq_df['Z'] = eq_df['DEPTH']*np.cos(0.5*np.pi - eq_df['LAT'])\n"
   ]
  },
  {
   "cell_type": "markdown",
   "metadata": {},
   "source": [
    "### Step 2: Solve for the tension and compression axes for plotting and analysis\n",
    "1. Create axis of rotation 1 (aor1_vec) vectors - which are perpendicular to surface\n",
    "2. Create north vectors (n_vec)\n",
    "3. Rotate nvec w.r.t. aor1_vec by amount -azimuth angle: produces az_vec\n",
    "4. Create axis of rotation 2 (aor2_vec) vectors by rotating the north vectors w.r.t to aor1_vec towards -azimuth + 90 \n",
    "5. Create final vector by rotating az_vec w.r.t. aor2_vec by plunge angle"
   ]
  },
  {
   "cell_type": "code",
   "execution_count": 85,
   "metadata": {},
   "outputs": [
    {
     "data": {
      "text/plain": [
       "(3052, 36)"
      ]
     },
     "execution_count": 85,
     "metadata": {},
     "output_type": "execute_result"
    }
   ],
   "source": [
    "eq_df.shape"
   ]
  },
  {
   "cell_type": "code",
   "execution_count": 86,
   "metadata": {},
   "outputs": [],
   "source": [
    "# step 1 - only add to latitude\n",
    "d_lat = 0.5\n",
    "\n",
    "dummy_vec = np.zeros([eq_df.shape[0], 3])\n",
    "dummy_vec[:, 0] = eq_df['DEPTH']*np.cos(eq_df['LON'])*np.sin(0.5*np.pi - (eq_df['LAT'] + np.pi*d_lat/180))\n",
    "dummy_vec[:, 1] = eq_df['DEPTH']*np.sin(eq_df['LON'])*np.sin(0.5*np.pi - (eq_df['LAT'] + np.pi*d_lat/180))\n",
    "dummy_vec[:, 2] = eq_df['DEPTH']*np.cos(0.5*np.pi - (eq_df['LAT'] + np.pi*d_lat/180))\n",
    "\n",
    "aor1_vec = np.zeros([eq_df.shape[0], 3])\n",
    "aor1_vec[:, 0] = np.array(eq_df['X'] - 0) # zeros are just to make this easy to remember the process\n",
    "aor1_vec[:, 1] = np.array(eq_df['Y'] - 0)\n",
    "aor1_vec[:, 2] = np.array(eq_df['Z'] - 0)\n",
    "mag = np.sqrt(aor1_vec[:, 0]**2 + aor1_vec[:, 1]**2 + aor1_vec[:, 2]**2)\n",
    "mag = np.reshape(np.repeat(mag, 3), [mag.shape[0], 3])\n",
    "aor1_vec /= mag\n",
    "\n",
    "# step 2: create north vectors\n",
    "n_vec = np.zeros([eq_df.shape[0], 3])\n",
    "n_vec[:, 0] = np.array(dummy_vec[:, 0] - eq_df['X'])\n",
    "n_vec[:, 0] = np.array(dummy_vec[:, 1] - eq_df['Y'])\n",
    "n_vec[:, 0] = np.array(dummy_vec[:, 2] - eq_df['Z'])\n",
    "mag = np.sqrt(n_vec[:, 0]**2 + n_vec[:, 1]**2 + n_vec[:, 2]**2)\n",
    "mag = np.reshape(np.repeat(mag, 3), [mag.shape[0], 3])\n",
    "n_vec /= mag\n",
    "\n",
    "# step 3: rotate north vectors w.r.t aor1_vec by amount -azimuth angle: produces az_vec\n",
    "t_az_vec      = np.zeros([eq_df.shape[0], 3]) # 0 - x axis; 1 - y axis; 2 - z axis\n",
    "t_aor2_vec    = np.zeros([eq_df.shape[0], 3])\n",
    "\n",
    "p_az_vec      = np.zeros([eq_df.shape[0], 3]) # 0 - x axis; 1 - y axis; 2 - z axis\n",
    "p_aor2_vec    = np.zeros([eq_df.shape[0], 3])\n",
    "\n",
    "tension     = np.zeros([eq_df.shape[0], 3])\n",
    "compression = np.zeros([eq_df.shape[0], 3])\n",
    "\n",
    "for idx, row in eq_df.iterrows():\n",
    "    \n",
    "    ##### work with tension #####\n",
    "    t_az_vec[idx, :] = rotate_vec(aor1_vec[idx, :], n_vec[idx, :], -row['T_AZM'])\n",
    "        \n",
    "    # step 4: create t_aor2_vec vectors by rotating the north vectors w.r.t to aor1_vec towards -azimuth + 90 \n",
    "    t_aor2_vec[idx, :] = rotate_vec(aor1_vec[idx, :], n_vec[idx, :], -row['T_AZM'] + 90)\n",
    "                \n",
    "    # Step 5: create final vector by rotating t_az_vec w.r.t. t_aor2_vec by plunge angle\n",
    "    tension[idx, :] = rotate_vec(t_aor2_vec[idx, :], t_az_vec[idx, :], row['T_PL'])\n",
    "    \n",
    "    ##### work with compression #####\n",
    "    p_az_vec[idx, :] = rotate_vec(aor1_vec[idx, :], n_vec[idx, :], -row['P_AZM'])\n",
    "        \n",
    "    # step 4: create p_aor2_vec vectors by rotating the north vectors w.r.t to aor1_vec towards -azimuth + 90 \n",
    "    p_aor2_vec[idx, :] = rotate_vec(aor1_vec[idx, :], n_vec[idx, :], -row['P_AZM'] + 90)\n",
    "                \n",
    "    # Step 5: create final vector by rotating t_az_vec w.r.t. t_aor2_vec by plunge angle\n",
    "    compression[idx, :] = rotate_vec(p_aor2_vec[idx, :], p_az_vec[idx, :], row['P_PL'])\n",
    "    \n",
    "\n",
    "rot_data = []\n",
    "for idx, row in eq_df.iterrows():\n",
    "    \n",
    "    rot_vec = go.Scatter3d(x = [row['X'] - 100*tension[idx, 0], row['X'], row['X'] + 100*tension[idx, 0]],\n",
    "                           y = [row['Y'] - 100*tension[idx, 1], row['Y'], row['Y'] + 100*tension[idx, 1]],\n",
    "                           z = [row['Z'] - 100*tension[idx, 2], row['Z'], row['Z'] + 100*tension[idx, 2]],\n",
    "                           marker = dict( size = 1,\n",
    "                                          color = \"rgb(84,48,5)\"),\n",
    "                           line = dict( color = \"rgb(0,255,0)\", # tension in green\n",
    "                                        width = 6)\n",
    "                         )\n",
    "    rot_data.append(rot_vec)\n",
    "    rot_vec = go.Scatter3d(x = [row['X'] - 100*compression[idx, 0], row['X'], row['X'] + 100*compression[idx, 0]],\n",
    "                           y = [row['Y'] - 100*compression[idx, 1], row['Y'], row['Y'] + 100*compression[idx, 1]],\n",
    "                           z = [row['Z'] - 100*compression[idx, 2], row['Z'], row['Z'] + 100*compression[idx, 2]],\n",
    "                           marker = dict( size = 1,\n",
    "                                          color = \"rgb(84,48,5)\"),\n",
    "                           line = dict( color = \"rgb(255,0,0)\", # compression in red \n",
    "                                        width = 6)\n",
    "                         )\n",
    "    rot_data.append(rot_vec)"
   ]
  },
  {
   "cell_type": "code",
   "execution_count": 66,
   "metadata": {},
   "outputs": [
    {
     "name": "stdout",
     "output_type": "stream",
     "text": [
      "1.0\n",
      "1.0\n"
     ]
    }
   ],
   "source": [
    "mag = np.sqrt(n_vec[:, 0]**2 + n_vec[:, 1]**2 + n_vec[:, 2]**2)\n",
    "print(mag.min())\n",
    "print(mag.max())"
   ]
  },
  {
   "cell_type": "code",
   "execution_count": 39,
   "metadata": {},
   "outputs": [
    {
     "data": {
      "text/plain": [
       "Index(['EVENT_ID', 'DATE', 'TIME', 'LAT', 'LON', 'DEPTH', 'EX', 'MO', 'MW',\n",
       "       'EX.1', 'MRR', 'MTT', 'MPP', 'MRT', 'MTP', 'MPR', 'STRIKE', 'DIP',\n",
       "       'RAKE', 'STRIKE.1', 'DIP.1', 'RAKE.1', 'EX.2', 'T_VAL', 'T_PL', 'T_AZM',\n",
       "       'P_VAL', 'P_PL', 'P_AZM', 'N_VAL', 'N_PL', 'N_AZM', 'X', 'Y', 'Z'],\n",
       "      dtype='object')"
      ]
     },
     "execution_count": 39,
     "metadata": {},
     "output_type": "execute_result"
    }
   ],
   "source": [
    "# rotate north vectors wrt to aor1 vectors by (-)azimuth angle => out_vec\n",
    "# create aor2 vectors by rotating the north vectors wrt to aor1 towards (-)azimuth - 90 deg\n",
    "# create final compression/tension vector by rotating out_vec w.r.t. to aor2 by plunge angle\n",
    "eq_df.columns"
   ]
  },
  {
   "cell_type": "code",
   "execution_count": 87,
   "metadata": {},
   "outputs": [
    {
     "data": {
      "text/plain": [
       "'temp-plot.html'"
      ]
     },
     "execution_count": 87,
     "metadata": {},
     "output_type": "execute_result"
    }
   ],
   "source": [
    "\n",
    "trench_data = go.Scatter3d(\n",
    "    x = trench_df['X'], \n",
    "    y = trench_df['Y'], \n",
    "    z = trench_df['Z'], \n",
    "    mode = 'markers', \n",
    "    marker = dict(size = 1, color = 'black'),\n",
    "    line=dict(color='black',width=5)\n",
    ")\n",
    "\n",
    "# slab_data = go.Scatter3d(\n",
    "#     x = slab_df.iloc[::10, :]['X'], \n",
    "#     y = slab_df.iloc[::10, :]['Y'], \n",
    "#     z = slab_df.iloc[::10, :]['Z'], \n",
    "#     mode = 'markers', \n",
    "#     marker = dict(size = 2, color = 'gray', colorscale = 'Portland')\n",
    "# )\n",
    "\n",
    "# eq_data = go.Scatter3d(\n",
    "#     x = eq_df['X'], \n",
    "#     y = eq_df['Y'], \n",
    "#     z = eq_df['Z'], \n",
    "#     mode = 'markers', \n",
    "#     marker = dict(color = eq_df['MW']**2, size = eq_df['MW']**1.5, colorscale = 'Portland')\n",
    "# )\n",
    "#data = [trench_data, slab_data, eq_data]\n",
    "data = [trench_data]\n",
    "\n",
    "for cont in rot_data:\n",
    "    data.append(cont)\n",
    "    \n",
    "layout = go.Layout(title = 'Trench')\n",
    "fig = go.Figure(data = data, layout = layout)\n",
    "fig.update(layout_showlegend=False)\n",
    "plot(fig)"
   ]
  },
  {
   "cell_type": "code",
   "execution_count": 134,
   "metadata": {},
   "outputs": [
    {
     "name": "stdout",
     "output_type": "stream",
     "text": [
      "360.0 0.0\n",
      "359.0 0.0\n",
      "359.0 0.0\n"
     ]
    }
   ],
   "source": [
    "print(eq_df['T_AZM'].max(), eq_df['T_AZM'].min())\n",
    "print(eq_df['P_AZM'].max(), eq_df['P_AZM'].min())\n",
    "print(eq_df['N_AZM'].max(), eq_df['N_AZM'].min())"
   ]
  },
  {
   "cell_type": "code",
   "execution_count": 135,
   "metadata": {},
   "outputs": [
    {
     "name": "stdout",
     "output_type": "stream",
     "text": [
      "89.0 0.0\n",
      "89.0 0.0\n",
      "88.0 0.0\n"
     ]
    }
   ],
   "source": [
    "print(eq_df['T_PL'].max(), eq_df['T_PL'].min())\n",
    "print(eq_df['P_PL'].max(), eq_df['P_PL'].min())\n",
    "print(eq_df['N_PL'].max(), eq_df['N_PL'].min())"
   ]
  },
  {
   "cell_type": "code",
   "execution_count": 60,
   "metadata": {},
   "outputs": [
    {
     "data": {
      "text/plain": [
       "array([[1, 1, 1],\n",
       "       [2, 2, 2]])"
      ]
     },
     "execution_count": 60,
     "metadata": {},
     "output_type": "execute_result"
    }
   ],
   "source": [
    "test = np.array([[1, 2, 3], [4, 5, 6]])\n",
    "denom = np.reshape(np.repeat(np.array([1, 2,]), 3), [2, 3])\n",
    "denom"
   ]
  },
  {
   "cell_type": "code",
   "execution_count": 74,
   "metadata": {},
   "outputs": [
    {
     "data": {
      "text/plain": [
       "89656     -345.193324\n",
       "89661     -369.690746\n",
       "89666     -394.188238\n",
       "89671     -418.711932\n",
       "89676     -443.249254\n",
       "89681     -467.753875\n",
       "89686     -492.152781\n",
       "89691     -516.341696\n",
       "89696     -540.198163\n",
       "89701     -563.618575\n",
       "89706     -586.530251\n",
       "90697     -345.355625\n",
       "90702     -369.868901\n",
       "90707     -394.378446\n",
       "90712     -418.911494\n",
       "90717     -443.461549\n",
       "90722     -467.986939\n",
       "90727     -492.415109\n",
       "90732     -516.638082\n",
       "90737     -540.524563\n",
       "90742     -563.961084\n",
       "90747     -586.870159\n",
       "91736     -335.696593\n",
       "91741     -360.236194\n",
       "91746     -384.755315\n",
       "91751     -409.287249\n",
       "91756     -433.844259\n",
       "91761     -458.402030\n",
       "91766     -482.901576\n",
       "91771     -507.247377\n",
       "             ...     \n",
       "882404   -3198.504562\n",
       "882409   -3221.884471\n",
       "882414   -3245.410478\n",
       "882419   -3269.121415\n",
       "882424   -3292.954742\n",
       "883375   -2865.936765\n",
       "883380   -2890.044594\n",
       "883385   -2914.124165\n",
       "883390   -2938.197758\n",
       "883395   -2962.261303\n",
       "883400   -2986.284157\n",
       "883405   -3010.236446\n",
       "883410   -3034.107651\n",
       "883419   -3076.812229\n",
       "883424   -3100.319217\n",
       "883429   -3123.671128\n",
       "883434   -3146.949460\n",
       "883439   -3170.229409\n",
       "883444   -3193.537234\n",
       "883449   -3216.902459\n",
       "883454   -3240.386504\n",
       "883459   -3264.033828\n",
       "883464   -3287.806086\n",
       "884425   -2908.907242\n",
       "884430   -2932.977058\n",
       "884464   -3095.225042\n",
       "884469   -3118.627711\n",
       "884474   -3141.940076\n",
       "884479   -3165.238021\n",
       "884484   -3188.553011\n",
       "Name: X, Length: 23103, dtype: float64"
      ]
     },
     "execution_count": 74,
     "metadata": {},
     "output_type": "execute_result"
    }
   ],
   "source": [
    "\n",
    "slab_df.iloc[::5, :]['X']"
   ]
  },
  {
   "cell_type": "code",
   "execution_count": 75,
   "metadata": {},
   "outputs": [
    {
     "data": {
      "text/plain": [
       "(115512, 6)"
      ]
     },
     "execution_count": 75,
     "metadata": {},
     "output_type": "execute_result"
    }
   ],
   "source": [
    "slab_df.shape"
   ]
  },
  {
   "cell_type": "code",
   "execution_count": null,
   "metadata": {},
   "outputs": [],
   "source": []
  }
 ],
 "metadata": {
  "kernelspec": {
   "display_name": "Python 3",
   "language": "python",
   "name": "python3"
  },
  "language_info": {
   "codemirror_mode": {
    "name": "ipython",
    "version": 3
   },
   "file_extension": ".py",
   "mimetype": "text/x-python",
   "name": "python",
   "nbconvert_exporter": "python",
   "pygments_lexer": "ipython3",
   "version": "3.7.6"
  }
 },
 "nbformat": 4,
 "nbformat_minor": 2
}
