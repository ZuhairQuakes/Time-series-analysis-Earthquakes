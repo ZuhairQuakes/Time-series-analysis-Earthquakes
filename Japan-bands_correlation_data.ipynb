{
 "cells": [
  {
   "cell_type": "code",
   "execution_count": 10,
   "metadata": {},
   "outputs": [],
   "source": [
    "import pandas as pd\n",
    "import numpy as np\n",
    "from numpy import diff\n",
    "\n",
    "from scipy.stats import ttest_ind\n",
    "\n",
    "import matplotlib.pyplot as plt\n",
    "from matplotlib.lines import Line2D\n",
    "import ternary # ternary plot has a bug\n",
    "import plotly.express as px\n",
    "import h5py\n",
    "import matplotlib as mpl\n",
    "\n",
    "# import geopandas as gpd\n",
    "import math\n",
    "\n",
    "from matplotlib.patches import Circle, Wedge, Polygon\n",
    "\n",
    "import os\n",
    "import matplotlib.patheffects as path_effects\n",
    "\n",
    "\n",
    "from netCDF4 import Dataset as NetCDFFile \n",
    "\n",
    "# for beachball - there are some error with using obspy\n",
    "from pyrocko.plot import beachball\n",
    "from pyrocko import moment_tensor as ptm\n",
    "\n",
    "import cartopy.crs as ccrs\n",
    "import cartopy.mpl.geoaxes\n",
    "\n",
    "from mpl_toolkits.axes_grid1.inset_locator import inset_axes\n",
    "from cartopy.mpl.gridliner import LONGITUDE_FORMATTER, LATITUDE_FORMATTER\n",
    "import matplotlib.ticker as mticker\n",
    "from pathlib import Path\n",
    "%matplotlib inline\n",
    "\n",
    "import harmonica as hm\n",
    "\n",
    "from obspy.core import UTCDateTime\n",
    "\n",
    "from datetime import datetime, timezone\n",
    "\n",
    "import seaborn as sns\n",
    "sns.set()\n",
    "sns.set_style(style='white') \n",
    "sns.set_style(\"ticks\", {\"xtick.major.size\": 0.5, \"ytick.major.size\": 0.5})\n",
    "\n",
    "\n",
    "#set the font globally\n",
    "plt.rcParams.update({'font.family':'Helvetica'})"
   ]
  },
  {
   "cell_type": "code",
   "execution_count": 11,
   "metadata": {},
   "outputs": [],
   "source": [
    "# data = pd.read_csv('sum_with_2005_eqs.csv', header = 'infer')\n",
    "data = pd.read_csv(\"/Users/mohd0001/Research/PhD_Monash/Paper2/time-series/data/ryu_kur_class_by_loc_net.csv\", header = 'infer')\n",
    "# data.dtypes\n",
    "\n",
    "data.sort_values(by = 'MW', ascending = False, inplace = True)\n",
    "\n",
    "data['DATE'] = pd.to_datetime(data['DATE']) # change dtype to datetime format\n",
    "data['DATE'] = data['DATE'].dt.strftime('%Y-%m-%d') # change dtype to object\n",
    "\n",
    "# data['DATE'] and data['TIME'] should be object (str) to perform + operator\n",
    "\n",
    "data_dummy = np.array(data['DATE'] + ' ' + data['TIME'])\n",
    "\n",
    "data_ev_time = []\n",
    "\n",
    "for val in data_dummy:\n",
    "    data_ev_time.append(UTCDateTime(val))\n",
    "\n",
    "    \n",
    "ref_date = data_ev_time[0]\n",
    "\n",
    "data_ev_time = np.array(data_ev_time)\n",
    "\n",
    "date = []\n",
    "\n",
    "for val in data_ev_time:\n",
    "    date.append(val - ref_date)\n",
    "    \n",
    "date = np.array(date) # this is in seconds\n",
    "\n",
    "data['YEARS'] = date/31536000\n",
    "\n",
    "data = data.sort_values(by ='YEARS', ascending=True) # this is an important step\n",
    "# data = data[(data['DATE'] > '01-01-2003') & (data['DATE'] < '26-11-2004')]"
   ]
  },
  {
   "cell_type": "code",
   "execution_count": 12,
   "metadata": {},
   "outputs": [],
   "source": [
    "data_mthrust = data[(data['CLASS'] == 'MTHRUST') &\n",
    "                    (data['MW'] >= 7.5) &\n",
    "                    (data['LAT'] > 34) & (data['LAT'] < 55)]\n",
    "\n",
    "\n",
    "data_DW = data[(data['CLASS'] == 'DGOING') &\n",
    "               (data['DEPTH'] > 20) & (data['DEPTH'] < 225) &\n",
    "               (data['MW'] >= 6) &\n",
    "              (data['LAT'] < 34) & (data['LAT'] > 23.5) &\n",
    "              (data['LON'] > 123)]"
   ]
  },
  {
   "cell_type": "code",
   "execution_count": 13,
   "metadata": {
    "scrolled": false
   },
   "outputs": [
    {
     "name": "stdout",
     "output_type": "stream",
     "text": [
      "Long slab\n",
      "        LAT      LON  DEPTH      YEARS   MW        DATE\n",
      "421  28.298  130.637   23.1 -34.259094  6.4  1976-12-14\n",
      "409  31.097  130.158  164.1 -32.821682  6.7  1978-05-23\n",
      "Megathrust\n",
      "         LAT      LON  DEPTH      YEARS   MW        DATE\n",
      "1380  45.085  148.257   25.0 -32.989328  7.6  1978-03-23\n",
      "1381  44.243  148.916   12.3 -32.984700  7.5  1978-03-24\n",
      "1379  38.242  142.021   52.4 -32.766841  7.6  1978-06-12\n"
     ]
    }
   ],
   "source": [
    "## olive cluster (-35, -32)\n",
    "\n",
    "t1 = -35\n",
    "t2 = -32\n",
    "\n",
    "data_dg_olive = data_DW[(data_DW['YEARS'] > t1) & (data_DW['YEARS'] < t2)]\n",
    "\n",
    "# print('Olive band')\n",
    "print('Long slab')\n",
    "print(data_dg_olive[['LAT','LON','DEPTH', 'YEARS', 'MW', 'DATE']])\n",
    "\n",
    "\n",
    "data_mt_olive = data_mthrust[(data_mthrust['YEARS'] > t1) & (data_mthrust['YEARS'] < t2)]\n",
    "\n",
    "print('Megathrust')\n",
    "print(data_mt_olive[['LAT','LON','DEPTH', 'YEARS', 'MW', 'DATE']])"
   ]
  },
  {
   "cell_type": "code",
   "execution_count": 14,
   "metadata": {},
   "outputs": [
    {
     "name": "stdout",
     "output_type": "stream",
     "text": [
      "Long slab\n",
      "        LAT      LON  DEPTH      YEARS   MW        DATE\n",
      "418  26.621  125.665  162.9 -17.603397  6.4  1993-08-07\n",
      "Megathrust\n",
      "         LAT      LON  DEPTH      YEARS   MW        DATE\n",
      "1371  43.842  147.340   35.0 -16.442967  8.3  1994-10-04\n",
      "1377  40.540  143.448   28.9 -16.210211  7.7  1994-12-28\n"
     ]
    }
   ],
   "source": [
    "## orange band\n",
    "\n",
    "t1 = -18\n",
    "t2 = -16\n",
    "\n",
    "data_dg_orange = data_DW[(data_DW['YEARS'] > t1) & (data_DW['YEARS'] < t2)]\n",
    "\n",
    "# print('orange band')\n",
    "print('Long slab')\n",
    "print(data_dg_orange[['LAT','LON','DEPTH', 'YEARS', 'MW', 'DATE']])\n",
    "\n",
    "\n",
    "data_mt_orange = data_mthrust[(data_mthrust['YEARS'] > t1) & (data_mthrust['YEARS'] < t2)]\n",
    "\n",
    "print('Megathrust')\n",
    "print(data_mt_orange[['LAT','LON','DEPTH', 'YEARS', 'MW', 'DATE']])"
   ]
  },
  {
   "cell_type": "code",
   "execution_count": 15,
   "metadata": {},
   "outputs": [
    {
     "name": "stdout",
     "output_type": "stream",
     "text": [
      "Long slab\n",
      "        LAT      LON  DEPTH      YEARS   MW        DATE\n",
      "444  26.062  124.572  198.0 -11.122045  6.0  2000-01-28\n",
      "Megathrust\n",
      "         LAT      LON  DEPTH     YEARS   MW        DATE\n",
      "1372  41.866  143.861   27.0 -7.461408  8.3  2003-09-25\n"
     ]
    }
   ],
   "source": [
    "## maroon band\n",
    "\n",
    "t1 = -12\n",
    "t2 = -7\n",
    "\n",
    "data_dg_maroon = data_DW[(data_DW['YEARS'] > t1) & (data_DW['YEARS'] < t2)]\n",
    "\n",
    "# print('maroon band')\n",
    "print('Long slab')\n",
    "print(data_dg_maroon[['LAT','LON','DEPTH', 'YEARS', 'MW', 'DATE']])\n",
    "\n",
    "\n",
    "data_mt_maroon = data_mthrust[(data_mthrust['YEARS'] > t1) & (data_mthrust['YEARS'] < t2)]\n",
    "\n",
    "print('Megathrust')\n",
    "print(data_mt_maroon[['LAT','LON','DEPTH', 'YEARS', 'MW', 'DATE']])"
   ]
  },
  {
   "cell_type": "code",
   "execution_count": 16,
   "metadata": {},
   "outputs": [
    {
     "name": "stdout",
     "output_type": "stream",
     "text": [
      "Long slab\n",
      "        LAT      LON  DEPTH     YEARS   MW        DATE\n",
      "416  25.311  123.390  194.5 -5.404329  6.4  2005-10-15\n",
      "428  31.012  130.125  149.7 -5.302987  6.2  2005-11-21\n",
      "413  23.580  123.592   29.4 -1.565031  6.6  2009-08-17\n",
      "431  31.204  130.124  164.9 -1.516933  6.2  2009-09-03\n",
      "407  25.955  128.525   22.5 -1.033932  7.0  2010-02-26\n",
      "426  24.299  125.249   47.7 -0.431997  6.3  2010-10-04\n",
      "443  30.033  131.810   26.1  0.080273  6.0  2011-04-09\n",
      "Megathrust\n",
      "         LAT      LON  DEPTH     YEARS   MW        DATE\n",
      "1373  46.589  153.285   15.0 -4.319924  8.3  2006-11-15\n",
      "1370  38.228  142.671   14.0  0.000000  9.0  2011-03-11\n",
      "1374  36.209  141.115   29.0  0.000056  7.9  2011-03-11\n"
     ]
    }
   ],
   "source": [
    "## purple band\n",
    "\n",
    "t1 = -6\n",
    "t2 = 1\n",
    "\n",
    "data_dg_purple = data_DW[(data_DW['YEARS'] > t1) & (data_DW['YEARS'] < t2)]\n",
    "\n",
    "# print('purple band')\n",
    "print('Long slab')\n",
    "print(data_dg_purple[['LAT','LON','DEPTH', 'YEARS', 'MW', 'DATE']])\n",
    "\n",
    "\n",
    "data_mt_purple = data_mthrust[(data_mthrust['YEARS'] > t1) & (data_mthrust['YEARS'] < t2)]\n",
    "\n",
    "print('Megathrust')\n",
    "print(data_mt_purple[['LAT','LON','DEPTH', 'YEARS', 'MW', 'DATE']])"
   ]
  },
  {
   "cell_type": "code",
   "execution_count": 19,
   "metadata": {},
   "outputs": [
    {
     "name": "stdout",
     "output_type": "stream",
     "text": [
      "Long slab\n",
      "        LAT      LON  DEPTH     YEARS   MW        DATE\n",
      "447  26.523  128.882   33.9 -6.637902  6.0  2004-07-22\n",
      "405  33.096  136.701   23.6 -6.514572  7.2  2004-09-05\n",
      "416  25.311  123.390  194.5 -5.404329  6.4  2005-10-15\n",
      "428  31.012  130.125  149.7 -5.302987  6.2  2005-11-21\n",
      "Megathrust\n",
      "         LAT      LON  DEPTH     YEARS   MW        DATE\n",
      "1373  46.589  153.285   15.0 -4.319924  8.3  2006-11-15\n"
     ]
    }
   ],
   "source": [
    "## yellow band\n",
    "\n",
    "t1 = -7\n",
    "t2 = -4\n",
    "\n",
    "data_dg_yellow = data_DW[(data_DW['YEARS'] > t1) & (data_DW['YEARS'] < t2)]\n",
    "\n",
    "# print('yellow band')\n",
    "print('Long slab')\n",
    "print(data_dg_yellow[['LAT','LON','DEPTH', 'YEARS', 'MW', 'DATE']])\n",
    "\n",
    "\n",
    "data_mt_yellow = data_mthrust[(data_mthrust['YEARS'] > t1) & (data_mthrust['YEARS'] < t2)]\n",
    "\n",
    "print('Megathrust')\n",
    "print(data_mt_yellow[['LAT','LON','DEPTH', 'YEARS', 'MW', 'DATE']])"
   ]
  },
  {
   "cell_type": "code",
   "execution_count": null,
   "metadata": {},
   "outputs": [],
   "source": []
  }
 ],
 "metadata": {
  "kernelspec": {
   "display_name": "Python 3",
   "language": "python",
   "name": "python3"
  },
  "language_info": {
   "codemirror_mode": {
    "name": "ipython",
    "version": 3
   },
   "file_extension": ".py",
   "mimetype": "text/x-python",
   "name": "python",
   "nbconvert_exporter": "python",
   "pygments_lexer": "ipython3",
   "version": "3.7.6"
  }
 },
 "nbformat": 4,
 "nbformat_minor": 4
}
