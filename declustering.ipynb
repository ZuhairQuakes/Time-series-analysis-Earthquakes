{
 "cells": [
  {
   "cell_type": "code",
   "execution_count": 22,
   "metadata": {},
   "outputs": [],
   "source": [
    "import pandas as pd\n",
    "import numpy as np\n",
    "import matplotlib.pyplot as plt\n",
    "from obspy.core.utcdatetime import UTCDateTime"
   ]
  },
  {
   "cell_type": "code",
   "execution_count": 23,
   "metadata": {},
   "outputs": [],
   "source": [
    "# Load your earthquake catalog from a CSV file using pandas\n",
    "data = pd.read_csv(\"/Users/mohd0001/Research/PhD_Monash/Paper2/time-series/data/ryu_kur_class_by_loc_net.csv\")  # Replace with your CSV file\n",
    "\n",
    "data.sort_values(by = 'MW', ascending = False, inplace = True)\n",
    "\n",
    "data['DATE'] = pd.to_datetime(data['DATE']) # change dtype to datetime format\n",
    "data['DATE'] = data['DATE'].dt.strftime('%Y-%m-%d') # change dtype to object\n",
    "\n",
    "# data['DATE'] and data['TIME'] should be object (str) to perform + operator\n",
    "\n",
    "data_dummy = np.array(data['DATE'] + ' ' + data['TIME'])\n",
    "\n",
    "data_ev_time = []\n",
    "\n",
    "for val in data_dummy:\n",
    "    data_ev_time.append(UTCDateTime(val))\n",
    "\n",
    "    \n",
    "ref_date = data_ev_time[0]\n",
    "\n",
    "data_ev_time = np.array(data_ev_time)\n",
    "\n",
    "date = []\n",
    "\n",
    "for val in data_ev_time:\n",
    "    date.append(val - ref_date)\n",
    "    \n",
    "date = np.array(date) # this is in seconds\n",
    "\n",
    "data['YEARS'] = date/31536000\n",
    "\n",
    "data = data.sort_values(by ='YEARS', ascending=True) # this is an important step\n",
    "# data = data[(data['DATE'] > '01-01-2003') & (data['DATE'] < '26-11-2004')]"
   ]
  },
  {
   "cell_type": "code",
   "execution_count": 30,
   "metadata": {},
   "outputs": [],
   "source": [
    "def gardner_knopoff_decluster(df, mainshock_window=100, aftershock_window=10, magnitude_ratio=1.5):\n",
    "    # Sort the DataFrame by time\n",
    "    df.sort_values(by='DATE', inplace=True)\n",
    "    df.reset_index(drop=True, inplace=True)\n",
    "\n",
    "    # Initialize lists to store mainshocks and aftershocks\n",
    "    mainshocks = []\n",
    "    aftershocks = []\n",
    "\n",
    "    for i, row in df.iterrows():\n",
    "        if not mainshocks:\n",
    "            mainshocks.append(i)\n",
    "            continue\n",
    "\n",
    "        mainshock_idx = mainshocks[-1]\n",
    "        event_time = UTCDateTime(row['DATE'])\n",
    "        mainshock_time = UTCDateTime(df.at[mainshock_idx, 'DATE'])\n",
    "\n",
    "        if (event_time - mainshock_time) > mainshock_window:\n",
    "            mainshocks.append(i)\n",
    "        elif (event_time - mainshock_time) <= aftershock_window and row['MW'] >= magnitude_ratio * df.at[mainshock_idx, 'MW']:\n",
    "            aftershocks.append(i)\n",
    "    \n",
    "    return mainshocks, aftershocks"
   ]
  },
  {
   "cell_type": "code",
   "execution_count": 33,
   "metadata": {},
   "outputs": [
    {
     "data": {
      "image/png": "[encoded data removed]",
      "text/plain": [
       "<Figure size 432x288 with 1 Axes>"
      ]
     },
     "metadata": {
      "needs_background": "light"
     },
     "output_type": "display_data"
    }
   ],
   "source": [
    "# Decluster the earthquake catalog\n",
    "mainshock_indices, aftershock_indices = gardner_knopoff_decluster(data)\n",
    "\n",
    "# Create a new DataFrame for mainshocks\n",
    "mainshock_df = data.loc[mainshock_indices]\n",
    "aftershock_df = data.loc[aftershock_indices]\n",
    "\n",
    "# Plot the declustered earthquake catalog\n",
    "# plt.scatter(mainshock_df['LON'], mainshock_df['LAT'], s=20, c='blue', marker='o')\n",
    "plt.scatter(aftershock_df['LON'], aftershock_df['LAT'], s=50, c='red', marker='o')\n",
    "plt.xlabel('Longitude')\n",
    "plt.ylabel('Latitude')\n",
    "plt.title('Mainshocks in Declustered Earthquake Catalog')\n",
    "plt.grid(True)\n",
    "plt.show()"
   ]
  },
  {
   "cell_type": "code",
   "execution_count": null,
   "metadata": {},
   "outputs": [],
   "source": []
  }
 ],
 "metadata": {
  "kernelspec": {
   "display_name": "Python 3",
   "language": "python",
   "name": "python3"
  },
  "language_info": {
   "codemirror_mode": {
    "name": "ipython",
    "version": 3
   },
   "file_extension": ".py",
   "mimetype": "text/x-python",
   "name": "python",
   "nbconvert_exporter": "python",
   "pygments_lexer": "ipython3",
   "version": "3.7.6"
  }
 },
 "nbformat": 4,
 "nbformat_minor": 4
}
