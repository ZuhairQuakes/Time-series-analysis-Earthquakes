{
 "cells": [
  {
   "cell_type": "markdown",
   "metadata": {},
   "source": [
    "## Data cleaning\n",
    "In this notebook, I clean the dataset retrieved from the ISC-EHB catalog. "
   ]
  },
  {
   "cell_type": "code",
   "execution_count": 149,
   "metadata": {},
   "outputs": [],
   "source": [
    "import numpy as np\n",
    "import pandas as pd\n",
    "import matplotlib.pyplot as plt\n",
    "from obspy.core import UTCDateTime # this is a very convenient function!\n",
    "\n",
    "%matplotlib inline"
   ]
  },
  {
   "cell_type": "code",
   "execution_count": 301,
   "metadata": {},
   "outputs": [],
   "source": [
    "fname1 = '/Users/jgra0019/Documents/phd_data/focal_meca/ISC_data/1976_2018_latest_isc_data.csv'\n",
    "fname2 = '/Users/jgra0019/Documents/phd_data/focal_meca/ISC_data/1976_2018_isc_only_new.csv'\n",
    "\n",
    "gcmt_df = pd.read_csv(fname1, header = 'infer')\n",
    "isc_df = pd.read_csv(fname2, header = 'infer')"
   ]
  },
  {
   "cell_type": "markdown",
   "metadata": {},
   "source": [
    "# Earthquake catalog preparation\n",
    "The authors for origin and focal mechanism are not necessarily the same. For my analysis, I use the origin values from ISC and the focal mechanism is from GCMT."
   ]
  },
  {
   "cell_type": "code",
   "execution_count": 302,
   "metadata": {},
   "outputs": [
    {
     "name": "stdout",
     "output_type": "stream",
     "text": [
      "(5589, 35)\n"
     ]
    }
   ],
   "source": [
    "# these are the entries with centroid moment tensor by GCMT\n",
    "print(gcmt_df[gcmt_df['AUTHOR.1'] == 'GCMT'].shape)"
   ]
  },
  {
   "cell_type": "code",
   "execution_count": 303,
   "metadata": {},
   "outputs": [
    {
     "name": "stdout",
     "output_type": "stream",
     "text": [
      "Before dropping duplicate events: \n",
      "(18448, 9)\n",
      "(5589, 35)\n",
      "After dropping duplicate events: \n",
      "(18448, 9)\n",
      "(5588, 35)\n"
     ]
    }
   ],
   "source": [
    "gcmt_df = gcmt_df[gcmt_df['AUTHOR.1'] == 'GCMT']\n",
    "\n",
    "print('Before dropping duplicate events: ')\n",
    "print(isc_df.shape)\n",
    "print(gcmt_df.shape)\n",
    "\n",
    "isc_df = isc_df.drop_duplicates(subset='EVENTID', keep = 'last') # keep last (probably updates)\n",
    "gcmt_df = gcmt_df.drop_duplicates(subset='EVENT_ID', keep = 'last') \n",
    "\n",
    "print('After dropping duplicate events: ')\n",
    "print(isc_df.shape)\n",
    "print(gcmt_df.shape)"
   ]
  },
  {
   "cell_type": "code",
   "execution_count": 304,
   "metadata": {},
   "outputs": [
    {
     "name": "stdout",
     "output_type": "stream",
     "text": [
      "(12625, 9)\n"
     ]
    }
   ],
   "source": [
    "isc_df = isc_df[isc_df.DEPQUAL.isin(['L1', 'L2'])] # remove the events with large uncertainty\n",
    "isc_df = isc_df.reset_index(drop=True)\n",
    "gcmt_df.sort_values(by = 'MW', ascending = False, inplace = True) # sort by largest Mw first - prioritized\n",
    "gcmt_df = gcmt_df.reset_index(drop=True)\n",
    "#print(isc_df.shape)"
   ]
  },
  {
   "cell_type": "markdown",
   "metadata": {},
   "source": [
    "# Earthquake catalog preparation\n",
    "Results indicate that the difference in time from the two datasets should be up to 3 mins only. \n",
    "Also, you can use the Mw as an additional threshold."
   ]
  },
  {
   "cell_type": "code",
   "execution_count": 403,
   "metadata": {},
   "outputs": [],
   "source": [
    "# Use the date and time to connect the events\n",
    "gcmt_copy = gcmt_df.copy(deep = True)\n",
    "isc_copy = isc_df.copy(deep = True)\n",
    "isc_match = pd.DataFrame() # dataframe containing the results of the search\n",
    "\n",
    "gcmt_dummy = np.array(gcmt_df['DATE'] + ' ' + gcmt_df['TIME'])\n",
    "isc_dummy = np.array(isc_df['DATE'] + ' ' + isc_df['TIME'])\n",
    "\n",
    "gcmt_ev_time = []\n",
    "isc_ev_time = []\n",
    "gcmt_to_rm = []\n",
    "\n",
    "for val in gcmt_dummy:\n",
    "    gcmt_ev_time.append(UTCDateTime(val))\n",
    "    \n",
    "for val in isc_dummy:\n",
    "    isc_ev_time.append(UTCDateTime(val))\n",
    "\n",
    "gcmt_ev_time = np.array(gcmt_ev_time)\n",
    "isc_ev_time = np.array(isc_ev_time)\n",
    "\n",
    "# see the time difference and then solve for the Mw difference\n",
    "#based on large events: max lon lat diff: 1.7; time diff: 60 sec\n",
    "deg_thresh = 1.7\n",
    "sec_thresh = 150\n",
    "\n",
    "# get the isc and gcmt indices here\n",
    "# linking algorithm works like this:\n",
    "# Prioritize large events in the gcmt catalogue\n",
    "# Links events in the GCMT and ISC catalogue by looking at the time and location\n",
    "for i, gcmt_r in gcmt_copy.iterrows(): # loop over gcmt\n",
    "    \n",
    "    #val = gcmt_df.iloc[0]\n",
    "    gcmt_dummy = gcmt_r['DATE'] + ' ' + gcmt_r['TIME']\n",
    "    gcmt_time = UTCDateTime(gcmt_dummy)\n",
    "\n",
    "    subset_df = isc_copy[(np.abs(gcmt_r['LON'] - isc_copy['LON']) <= deg_thresh) & (np.abs(gcmt_r['LAT'] - isc_copy['LAT']) <= deg_thresh)]\n",
    "\n",
    "    t_min = sec_thresh + 1\n",
    "    row_rep = None\n",
    "    idx_rep = None\n",
    "    \n",
    "    for j, subset_r in subset_df.iterrows():\n",
    "    \n",
    "        dummy = subset_r['DATE'] + ' ' + subset_r['TIME']\n",
    "        t_diff = np.abs(gcmt_time - UTCDateTime(dummy))\n",
    "\n",
    "        #print(t_diff) # a bit convoluted, so additional explanation\n",
    "        if t_diff < t_min:\n",
    "            t_min = t_diff\n",
    "            row_rep = subset_r\n",
    "            idx_rep = j  \n",
    "            \n",
    "    if t_min < sec_thresh:\n",
    "        isc_match = isc_match.append(row_rep, ignore_index = True) \n",
    "        isc_copy = isc_copy.drop(index = idx_rep)\n",
    "    else: # if row_rep is None or no event close enough is found then list the index as one to be removed from gcmt\n",
    "        gcmt_to_rm.append(i)\n",
    "    \n",
    "    \n",
    "gcmt_copy = gcmt_copy.drop(index = gcmt_to_rm)"
   ]
  },
  {
   "cell_type": "code",
   "execution_count": 412,
   "metadata": {},
   "outputs": [
    {
     "data": {
      "text/html": [
       "<div>\n",
       "<style scoped>\n",
       "    .dataframe tbody tr th:only-of-type {\n",
       "        vertical-align: middle;\n",
       "    }\n",
       "\n",
       "    .dataframe tbody tr th {\n",
       "        vertical-align: top;\n",
       "    }\n",
       "\n",
       "    .dataframe thead th {\n",
       "        text-align: right;\n",
       "    }\n",
       "</style>\n",
       "<table border=\"1\" class=\"dataframe\">\n",
       "  <thead>\n",
       "    <tr style=\"text-align: right;\">\n",
       "      <th></th>\n",
       "      <th>AUTHOR</th>\n",
       "      <th>DATE</th>\n",
       "      <th>DEPFIX</th>\n",
       "      <th>DEPQUAL</th>\n",
       "      <th>DEPTH</th>\n",
       "      <th>EVENTID</th>\n",
       "      <th>LAT</th>\n",
       "      <th>LON</th>\n",
       "      <th>TIME</th>\n",
       "    </tr>\n",
       "  </thead>\n",
       "  <tbody>\n",
       "    <tr>\n",
       "      <th>0</th>\n",
       "      <td>ISC-EHB</td>\n",
       "      <td>2004-12-26</td>\n",
       "      <td>1.0</td>\n",
       "      <td>L2</td>\n",
       "      <td>28.6</td>\n",
       "      <td>610813174.0</td>\n",
       "      <td>3.299</td>\n",
       "      <td>95.876</td>\n",
       "      <td>00:58:53.15</td>\n",
       "    </tr>\n",
       "    <tr>\n",
       "      <th>1</th>\n",
       "      <td>ISC-EHB</td>\n",
       "      <td>2005-03-28</td>\n",
       "      <td>1.0</td>\n",
       "      <td>L2</td>\n",
       "      <td>25.8</td>\n",
       "      <td>610815812.0</td>\n",
       "      <td>3.026</td>\n",
       "      <td>97.459</td>\n",
       "      <td>16:09:43.04</td>\n",
       "    </tr>\n",
       "    <tr>\n",
       "      <th>2</th>\n",
       "      <td>ISC-EHB</td>\n",
       "      <td>2012-04-11</td>\n",
       "      <td>NaN</td>\n",
       "      <td>L1</td>\n",
       "      <td>17.7</td>\n",
       "      <td>610853793.0</td>\n",
       "      <td>2.319</td>\n",
       "      <td>93.061</td>\n",
       "      <td>08:38:36.21</td>\n",
       "    </tr>\n",
       "    <tr>\n",
       "      <th>3</th>\n",
       "      <td>ISC-EHB</td>\n",
       "      <td>2007-09-12</td>\n",
       "      <td>NaN</td>\n",
       "      <td>L1</td>\n",
       "      <td>32.0</td>\n",
       "      <td>610827909.0</td>\n",
       "      <td>-4.458</td>\n",
       "      <td>101.359</td>\n",
       "      <td>11:10:26.21</td>\n",
       "    </tr>\n",
       "    <tr>\n",
       "      <th>4</th>\n",
       "      <td>ISC-EHB</td>\n",
       "      <td>1977-08-19</td>\n",
       "      <td>NaN</td>\n",
       "      <td>L1</td>\n",
       "      <td>15.9</td>\n",
       "      <td>615808278.0</td>\n",
       "      <td>-11.121</td>\n",
       "      <td>118.371</td>\n",
       "      <td>06:08:53.93</td>\n",
       "    </tr>\n",
       "  </tbody>\n",
       "</table>\n",
       "</div>"
      ],
      "text/plain": [
       "    AUTHOR        DATE  DEPFIX DEPQUAL  DEPTH      EVENTID     LAT      LON  \\\n",
       "0  ISC-EHB  2004-12-26     1.0      L2   28.6  610813174.0   3.299   95.876   \n",
       "1  ISC-EHB  2005-03-28     1.0      L2   25.8  610815812.0   3.026   97.459   \n",
       "2  ISC-EHB  2012-04-11     NaN      L1   17.7  610853793.0   2.319   93.061   \n",
       "3  ISC-EHB  2007-09-12     NaN      L1   32.0  610827909.0  -4.458  101.359   \n",
       "4  ISC-EHB  1977-08-19     NaN      L1   15.9  615808278.0 -11.121  118.371   \n",
       "\n",
       "          TIME  \n",
       "0  00:58:53.15  \n",
       "1  16:09:43.04  \n",
       "2  08:38:36.21  \n",
       "3  11:10:26.21  \n",
       "4  06:08:53.93  "
      ]
     },
     "execution_count": 412,
     "metadata": {},
     "output_type": "execute_result"
    }
   ],
   "source": [
    "isc_match.head()"
   ]
  },
  {
   "cell_type": "code",
   "execution_count": 413,
   "metadata": {},
   "outputs": [
    {
     "data": {
      "text/html": [
       "<div>\n",
       "<style scoped>\n",
       "    .dataframe tbody tr th:only-of-type {\n",
       "        vertical-align: middle;\n",
       "    }\n",
       "\n",
       "    .dataframe tbody tr th {\n",
       "        vertical-align: top;\n",
       "    }\n",
       "\n",
       "    .dataframe thead th {\n",
       "        text-align: right;\n",
       "    }\n",
       "</style>\n",
       "<table border=\"1\" class=\"dataframe\">\n",
       "  <thead>\n",
       "    <tr style=\"text-align: right;\">\n",
       "      <th></th>\n",
       "      <th>EVENT_ID</th>\n",
       "      <th>AUTHOR</th>\n",
       "      <th>DATE</th>\n",
       "      <th>TIME</th>\n",
       "      <th>LAT</th>\n",
       "      <th>LON</th>\n",
       "      <th>DEPTH</th>\n",
       "      <th>CENTROID</th>\n",
       "      <th>AUTHOR.1</th>\n",
       "      <th>EX</th>\n",
       "      <th>...</th>\n",
       "      <th>EX.2</th>\n",
       "      <th>T_VAL</th>\n",
       "      <th>T_PL</th>\n",
       "      <th>T_AZM</th>\n",
       "      <th>P_VAL</th>\n",
       "      <th>P_PL</th>\n",
       "      <th>P_AZM</th>\n",
       "      <th>N_VAL</th>\n",
       "      <th>N_PL</th>\n",
       "      <th>N_AZM</th>\n",
       "    </tr>\n",
       "  </thead>\n",
       "  <tbody>\n",
       "    <tr>\n",
       "      <th>0</th>\n",
       "      <td>7453151</td>\n",
       "      <td>GCMT</td>\n",
       "      <td>2004-12-26</td>\n",
       "      <td>01:01:09.00</td>\n",
       "      <td>3.09</td>\n",
       "      <td>94.26</td>\n",
       "      <td>28.6</td>\n",
       "      <td>True</td>\n",
       "      <td>GCMT</td>\n",
       "      <td>22.0</td>\n",
       "      <td>...</td>\n",
       "      <td>22.0</td>\n",
       "      <td>4.015</td>\n",
       "      <td>52.0</td>\n",
       "      <td>36.0</td>\n",
       "      <td>-3.892</td>\n",
       "      <td>38.0</td>\n",
       "      <td>222.0</td>\n",
       "      <td>-0.119</td>\n",
       "      <td>3.0</td>\n",
       "      <td>130.0</td>\n",
       "    </tr>\n",
       "    <tr>\n",
       "      <th>1</th>\n",
       "      <td>7486110</td>\n",
       "      <td>GCMT</td>\n",
       "      <td>2005-03-28</td>\n",
       "      <td>16:10:31.50</td>\n",
       "      <td>1.67</td>\n",
       "      <td>97.07</td>\n",
       "      <td>25.8</td>\n",
       "      <td>True</td>\n",
       "      <td>GCMT</td>\n",
       "      <td>22.0</td>\n",
       "      <td>...</td>\n",
       "      <td>22.0</td>\n",
       "      <td>1.050</td>\n",
       "      <td>52.0</td>\n",
       "      <td>30.0</td>\n",
       "      <td>-1.049</td>\n",
       "      <td>38.0</td>\n",
       "      <td>218.0</td>\n",
       "      <td>-0.002</td>\n",
       "      <td>4.0</td>\n",
       "      <td>125.0</td>\n",
       "    </tr>\n",
       "    <tr>\n",
       "      <th>2</th>\n",
       "      <td>600860404</td>\n",
       "      <td>GCMT</td>\n",
       "      <td>2012-04-11</td>\n",
       "      <td>08:38:36.70</td>\n",
       "      <td>2.35</td>\n",
       "      <td>92.82</td>\n",
       "      <td>45.6</td>\n",
       "      <td>True</td>\n",
       "      <td>GCMT</td>\n",
       "      <td>22.0</td>\n",
       "      <td>...</td>\n",
       "      <td>22.0</td>\n",
       "      <td>0.862</td>\n",
       "      <td>13.0</td>\n",
       "      <td>243.0</td>\n",
       "      <td>-0.966</td>\n",
       "      <td>6.0</td>\n",
       "      <td>335.0</td>\n",
       "      <td>0.104</td>\n",
       "      <td>75.0</td>\n",
       "      <td>88.0</td>\n",
       "    </tr>\n",
       "    <tr>\n",
       "      <th>3</th>\n",
       "      <td>13203322</td>\n",
       "      <td>GCMT</td>\n",
       "      <td>2007-09-12</td>\n",
       "      <td>11:11:14.80</td>\n",
       "      <td>-3.78</td>\n",
       "      <td>100.99</td>\n",
       "      <td>24.4</td>\n",
       "      <td>True</td>\n",
       "      <td>GCMT</td>\n",
       "      <td>21.0</td>\n",
       "      <td>...</td>\n",
       "      <td>21.0</td>\n",
       "      <td>6.722</td>\n",
       "      <td>53.0</td>\n",
       "      <td>29.0</td>\n",
       "      <td>-6.701</td>\n",
       "      <td>37.0</td>\n",
       "      <td>216.0</td>\n",
       "      <td>-0.024</td>\n",
       "      <td>3.0</td>\n",
       "      <td>123.0</td>\n",
       "    </tr>\n",
       "    <tr>\n",
       "      <th>4</th>\n",
       "      <td>694739</td>\n",
       "      <td>GCMT</td>\n",
       "      <td>1977-08-19</td>\n",
       "      <td>06:09:32.20</td>\n",
       "      <td>-11.14</td>\n",
       "      <td>118.23</td>\n",
       "      <td>23.3</td>\n",
       "      <td>True</td>\n",
       "      <td>GCMT</td>\n",
       "      <td>21.0</td>\n",
       "      <td>...</td>\n",
       "      <td>21.0</td>\n",
       "      <td>3.710</td>\n",
       "      <td>21.0</td>\n",
       "      <td>157.0</td>\n",
       "      <td>-3.470</td>\n",
       "      <td>67.0</td>\n",
       "      <td>317.0</td>\n",
       "      <td>-0.240</td>\n",
       "      <td>7.0</td>\n",
       "      <td>64.0</td>\n",
       "    </tr>\n",
       "  </tbody>\n",
       "</table>\n",
       "<p>5 rows × 35 columns</p>\n",
       "</div>"
      ],
      "text/plain": [
       "    EVENT_ID AUTHOR        DATE         TIME    LAT     LON  DEPTH CENTROID  \\\n",
       "0    7453151   GCMT  2004-12-26  01:01:09.00   3.09   94.26   28.6     True   \n",
       "1    7486110   GCMT  2005-03-28  16:10:31.50   1.67   97.07   25.8     True   \n",
       "2  600860404   GCMT  2012-04-11  08:38:36.70   2.35   92.82   45.6     True   \n",
       "3   13203322   GCMT  2007-09-12  11:11:14.80  -3.78  100.99   24.4     True   \n",
       "4     694739   GCMT  1977-08-19  06:09:32.20 -11.14  118.23   23.3     True   \n",
       "\n",
       "  AUTHOR.1    EX  ...    EX.2  T_VAL  T_PL  T_AZM  P_VAL  P_PL  P_AZM  N_VAL  \\\n",
       "0     GCMT  22.0  ...    22.0  4.015  52.0   36.0 -3.892  38.0  222.0 -0.119   \n",
       "1     GCMT  22.0  ...    22.0  1.050  52.0   30.0 -1.049  38.0  218.0 -0.002   \n",
       "2     GCMT  22.0  ...    22.0  0.862  13.0  243.0 -0.966   6.0  335.0  0.104   \n",
       "3     GCMT  21.0  ...    21.0  6.722  53.0   29.0 -6.701  37.0  216.0 -0.024   \n",
       "4     GCMT  21.0  ...    21.0  3.710  21.0  157.0 -3.470  67.0  317.0 -0.240   \n",
       "\n",
       "   N_PL  N_AZM  \n",
       "0   3.0  130.0  \n",
       "1   4.0  125.0  \n",
       "2  75.0   88.0  \n",
       "3   3.0  123.0  \n",
       "4   7.0   64.0  \n",
       "\n",
       "[5 rows x 35 columns]"
      ]
     },
     "execution_count": 413,
     "metadata": {},
     "output_type": "execute_result"
    }
   ],
   "source": [
    "gcmt_copy.head()"
   ]
  },
  {
   "cell_type": "code",
   "execution_count": 411,
   "metadata": {},
   "outputs": [],
   "source": [
    "# remove elements from gcmt_copy\n",
    "\n",
    "isc_match = isc_match.reset_index(drop=True)\n",
    "gcmt_copy = gcmt_copy.reset_index(drop = True) \n",
    "\n"
   ]
  },
  {
   "cell_type": "code",
   "execution_count": 426,
   "metadata": {},
   "outputs": [
    {
     "name": "stdout",
     "output_type": "stream",
     "text": [
      "(4848, 44)\n"
     ]
    }
   ],
   "source": [
    "#cmt_df = pd.concat([isc_match, gcmt_copy], join_axes = 1, ignore_index = True)\n",
    "cmt_df = pd.merge(isc_match, gcmt_copy, left_index = True, right_index = True)\n",
    "print(cmt_df.shape)"
   ]
  },
  {
   "cell_type": "code",
   "execution_count": 433,
   "metadata": {},
   "outputs": [],
   "source": [
    "# check to make sure that the dataset has enough time coverage\n",
    "\n",
    "gcmt_dummy = np.array(gcmt_copy['DATE'] + ' ' + gcmt_copy['TIME'])\n",
    "isc_dummy = np.array(isc_match['DATE'] + ' ' + isc_match['TIME'])\n",
    "\n",
    "gcmt_ev_time = []\n",
    "isc_ev_time = []\n",
    "\n",
    "for val in gcmt_dummy:\n",
    "    gcmt_ev_time.append(UTCDateTime(val))\n",
    "    \n",
    "for val in isc_dummy:\n",
    "    isc_ev_time.append(UTCDateTime(val))\n",
    "    \n",
    "ref_date = gcmt_ev_time[0]\n",
    "\n",
    "gcmt_ev_time = np.array(gcmt_ev_time)\n",
    "isc_ev_time = np.array(isc_ev_time)\n",
    "\n",
    "date1 = []\n",
    "date2 = []\n",
    "\n",
    "for val in gcmt_ev_time:\n",
    "    date1.append(val - ref_date)\n",
    "\n",
    "for val in isc_ev_time:\n",
    "    date2.append(val - ref_date)\n",
    "    \n",
    "date1 = np.array(date1)\n",
    "date2 = np.array(date2)"
   ]
  },
  {
   "cell_type": "code",
   "execution_count": 434,
   "metadata": {},
   "outputs": [
    {
     "data": {
      "text/plain": [
       "(array([  64.,  110.,   69.,   87.,  141.,  101.,   86.,  122.,  148.,\n",
       "         143.,  138.,  137.,  121.,  174.,  174.,  162.,  382.,  762.,\n",
       "         339.,  294.,  258.,  281.,  322.,  233.]),\n",
       " array([-28.94466444, -27.23829251, -25.53192057, -23.82554864,\n",
       "        -22.11917671, -20.41280478, -18.70643285, -17.00006092,\n",
       "        -15.29368898, -13.58731705, -11.88094512, -10.17457319,\n",
       "         -8.46820126,  -6.76182933,  -5.05545739,  -3.34908546,\n",
       "         -1.64271353,   0.0636584 ,   1.77003033,   3.47640227,\n",
       "          5.1827742 ,   6.88914613,   8.59551806,  10.30188999,  12.00826192]),\n",
       " <a list of 24 Patch objects>)"
      ]
     },
     "execution_count": 434,
     "metadata": {},
     "output_type": "execute_result"
    },
    {
     "data": {
      "image/png": "[encoded data removed]",
      "text/plain": [
       "<Figure size 432x288 with 1 Axes>"
      ]
     },
     "metadata": {
      "needs_background": "light"
     },
     "output_type": "display_data"
    }
   ],
   "source": [
    "plt.hist(date1/31536000, bins = 'fd', alpha = 0.3)\n",
    "plt.hist(date2/31536000, bins = 'fd', alpha = 0.1)"
   ]
  },
  {
   "cell_type": "code",
   "execution_count": 436,
   "metadata": {},
   "outputs": [
    {
     "data": {
      "text/plain": [
       "Index(['EVENT_ID', 'AUTHOR', 'DATE', 'TIME', 'LAT', 'LON', 'DEPTH', 'CENTROID',\n",
       "       'AUTHOR.1', 'EX', 'MO', 'MW', 'EX.1', 'MRR', 'MTT', 'MPP', 'MRT', 'MTP',\n",
       "       'MPR', 'STRIKE', 'DIP', 'RAKE', 'STRIKE.1', 'DIP.1', 'RAKE.1', 'EX.2',\n",
       "       'T_VAL', 'T_PL', 'T_AZM', 'P_VAL', 'P_PL', 'P_AZM', 'N_VAL', 'N_PL',\n",
       "       'N_AZM'],\n",
       "      dtype='object')"
      ]
     },
     "execution_count": 436,
     "metadata": {},
     "output_type": "execute_result"
    }
   ],
   "source": [
    "gcmt_copy.columns"
   ]
  },
  {
   "cell_type": "code",
   "execution_count": 438,
   "metadata": {},
   "outputs": [],
   "source": [
    "final1 = isc_match[['LON', 'LAT', 'DEPTH', 'DATE', 'TIME', 'DEPFIX', 'DEPQUAL']] # from isc\n",
    "final1 = final1.reset_index(drop=True) \n",
    "final2 = gcmt_copy[['EX', 'MO', 'MW', 'EX.1', 'MRR', 'MTT', 'MPP', 'MRT', 'MTP',\n",
    "       'MPR', 'STRIKE', 'DIP', 'RAKE', 'STRIKE.1', 'DIP.1', 'RAKE.1', 'EX.2',\n",
    "       'T_VAL', 'T_PL', 'T_AZM', 'P_VAL', 'P_PL', 'P_AZM', 'N_VAL', 'N_PL',\n",
    "       'N_AZM']] # from gcmt\n",
    "final2 = final2.reset_index(drop=True) # drop = True is actually important"
   ]
  },
  {
   "cell_type": "code",
   "execution_count": 439,
   "metadata": {},
   "outputs": [
    {
     "name": "stdout",
     "output_type": "stream",
     "text": [
      "(3308, 33)\n"
     ]
    }
   ],
   "source": [
    "# remove earthquakes from the Philippines\n",
    "\n",
    "final_df = pd.concat([final1, final2], axis = 1)\n",
    "\n",
    "final_df = final_df[~((final_df['LAT'] >= 0) & (final_df['LON'] >= 115))]\n",
    "                    \n",
    "final_df = final_df.reset_index(drop=True) # this is actually important\n",
    "print(final_df.shape)"
   ]
  },
  {
   "cell_type": "code",
   "execution_count": 446,
   "metadata": {},
   "outputs": [
    {
     "name": "stdout",
     "output_type": "stream",
     "text": [
      "(3308, 33)\n"
     ]
    }
   ],
   "source": [
    "final_df.sort_values(by = 'MW', inplace = True, ascending = False)\n",
    "final_df = final_df.reset_index(drop=True) # this is actually important\n",
    "print(final_df.shape)"
   ]
  },
  {
   "cell_type": "code",
   "execution_count": 447,
   "metadata": {},
   "outputs": [],
   "source": [
    "out_fname = '/Users/jgra0019/Documents/phd_data/focal_meca/ISC_data/revised_isc_gcmt_data.csv'\n",
    "final_df.to_csv(out_fname, sep = ',', index = False)"
   ]
  },
  {
   "cell_type": "code",
   "execution_count": null,
   "metadata": {},
   "outputs": [],
   "source": []
  }
 ],
 "metadata": {
  "kernelspec": {
   "display_name": "Python 3",
   "language": "python",
   "name": "python3"
  },
  "language_info": {
   "codemirror_mode": {
    "name": "ipython",
    "version": 3
   },
   "file_extension": ".py",
   "mimetype": "text/x-python",
   "name": "python",
   "nbconvert_exporter": "python",
   "pygments_lexer": "ipython3",
   "version": "3.7.6"
  }
 },
 "nbformat": 4,
 "nbformat_minor": 2
}
