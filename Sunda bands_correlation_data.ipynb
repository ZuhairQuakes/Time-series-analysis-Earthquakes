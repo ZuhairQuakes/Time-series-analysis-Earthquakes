{
 "cells": [
  {
   "cell_type": "code",
   "execution_count": 2,
   "metadata": {},
   "outputs": [],
   "source": [
    "import pandas as pd\n",
    "import numpy as np\n",
    "from numpy import diff\n",
    "\n",
    "from scipy.stats import ttest_ind\n",
    "\n",
    "import matplotlib.pyplot as plt\n",
    "from matplotlib.lines import Line2D\n",
    "import ternary # ternary plot has a bug\n",
    "import plotly.express as px\n",
    "import h5py\n",
    "import matplotlib as mpl\n",
    "\n",
    "# import geopandas as gpd\n",
    "import math\n",
    "\n",
    "from matplotlib.patches import Circle, Wedge, Polygon\n",
    "\n",
    "import os\n",
    "import matplotlib.patheffects as path_effects\n",
    "\n",
    "\n",
    "from netCDF4 import Dataset as NetCDFFile \n",
    "\n",
    "# for beachball - there are some error with using obspy\n",
    "from pyrocko.plot import beachball\n",
    "from pyrocko import moment_tensor as ptm\n",
    "\n",
    "import cartopy.crs as ccrs\n",
    "import cartopy.mpl.geoaxes\n",
    "\n",
    "from mpl_toolkits.axes_grid1.inset_locator import inset_axes\n",
    "from cartopy.mpl.gridliner import LONGITUDE_FORMATTER, LATITUDE_FORMATTER\n",
    "import matplotlib.ticker as mticker\n",
    "from pathlib import Path\n",
    "%matplotlib inline\n",
    "\n",
    "import harmonica as hm\n",
    "\n",
    "from obspy.core import UTCDateTime\n",
    "\n",
    "from datetime import datetime, timezone\n",
    "\n",
    "import seaborn as sns\n",
    "sns.set()\n",
    "sns.set_style(style='white') \n",
    "sns.set_style(\"ticks\", {\"xtick.major.size\": 0.5, \"ytick.major.size\": 0.5})\n",
    "\n",
    "\n",
    "#set the font globally\n",
    "plt.rcParams.update({'font.family':'Helvetica'})"
   ]
  },
  {
   "cell_type": "code",
   "execution_count": 3,
   "metadata": {},
   "outputs": [],
   "source": [
    "# data = pd.read_csv('sum_with_2005_eqs.csv', header = 'infer')\n",
    "data = pd.read_csv(\"/Users/mohd0001/PhD_Monash/Paper2/time-series/data/SUeq_data.csv\", header = 'infer')\n",
    "# data.dtypes\n",
    "\n",
    "# data = data[(data['MW'] >= 5.1)]\n",
    "\n",
    "data.sort_values(by = 'MW', ascending = False, inplace = True)\n",
    "\n",
    "data['DATE'] = pd.to_datetime(data['DATE']) # change dtype to datetime format\n",
    "data['DATE'] = data['DATE'].dt.strftime('%Y-%m-%d') # change dtype to object\n",
    "\n",
    "# data['DATE'] and data['TIME'] should be object (str) to perform + operator\n",
    "\n",
    "data_dummy = np.array(data['DATE'] + ' ' + data['TIME'])\n",
    "\n",
    "data_ev_time = []\n",
    "\n",
    "for val in data_dummy:\n",
    "    data_ev_time.append(UTCDateTime(val))\n",
    "\n",
    "    \n",
    "ref_date = data_ev_time[0]\n",
    "\n",
    "data_ev_time = np.array(data_ev_time)\n",
    "\n",
    "date = []\n",
    "\n",
    "for val in data_ev_time:\n",
    "    date.append(val - ref_date)\n",
    "    \n",
    "date = np.array(date) # this is in seconds\n",
    "\n",
    "data['YEARS'] = date/31536000\n",
    "\n",
    "data = data.sort_values(by ='YEARS', ascending=True) # this is an important step\n",
    "# data = data[(data['DATE'] > '01-01-2003') & (data['DATE'] < '26-11-2004')]"
   ]
  },
  {
   "cell_type": "code",
   "execution_count": 4,
   "metadata": {},
   "outputs": [],
   "source": [
    "## Deep Java\n",
    "# data_dgoing = data.loc[data['CLASS'] == 'DGOING']\n",
    "# data_dgoing = data_dgoing[(data_dgoing['LAT'] <= -2) & (data_dgoing['LON'] <= 120) &\n",
    "#                           (data_dgoing['TYPE'] != 'THRUST') & # except thrust events\n",
    "#                          (data_dgoing['DEPTH'] < 290) &\n",
    "#                          (data_dgoing['MW'] >= 6 )]\n",
    "\n",
    "# Intermediate depth\n",
    "data_dgoing = data.loc[data['CLASS'] == 'DGOING']\n",
    "data_dgoing = data_dgoing[(data_dgoing['LAT'] <= -2) & (data_dgoing['LON'] <= 120) &\n",
    "                         (data_dgoing['DEPTH'] > 290) & (data_dgoing['DEPTH'] < 700) &\n",
    "                         (data_dgoing['MW'] >= 6 )]"
   ]
  },
  {
   "cell_type": "code",
   "execution_count": 5,
   "metadata": {},
   "outputs": [],
   "source": [
    "# # Sumatra-Andaman - short slab\n",
    "# data_dgoing = data.loc[data['CLASS'] == 'DGOING']\n",
    "# data_dgoing = data_dgoing[(data_dgoing['LAT'] > -2) &\n",
    "#                          (data_dgoing['DEPTH'] > 70) &\n",
    "#                          (data_dgoing['MW'] >= 6 )]"
   ]
  },
  {
   "cell_type": "code",
   "execution_count": 6,
   "metadata": {},
   "outputs": [
    {
     "name": "stdout",
     "output_type": "stream",
     "text": [
      "Olive band\n",
      "Long slab\n",
      "        LAT      LON  DEPTH      YEARS   MW        DATE   CLASS  TYPE\n",
      "2466 -7.513  119.861  612.8 -28.945236  6.7  1976-01-23  DGOING  NORM\n",
      "Megathrust\n",
      "        LAT     LON  DEPTH      YEARS   MW        DATE    CLASS    TYPE\n",
      "1428  3.438  96.246   22.2 -28.536944  7.0  1976-06-20  MTHRUST  THRUST\n"
     ]
    }
   ],
   "source": [
    "# olive band\n",
    "t1 = -29\n",
    "t2 = -28\n",
    "\n",
    "data_dg = data_dgoing[(data_dgoing['YEARS'] > t1) & (data_dgoing['YEARS'] < t2)]\n",
    "\n",
    "print('Olive band')\n",
    "print('Long slab')\n",
    "# print('Max depth', data_dg.DEPTH.max())\n",
    "# print('Max mag', data_dg.MW.max())\n",
    "# print('Min mag', data_dg.MW.min())\n",
    "print(data_dg[['LAT','LON','DEPTH', 'YEARS', 'MW', 'DATE', 'CLASS', 'TYPE']])\n",
    "\n",
    "\n",
    "data_mt = data[(data['LAT'] < 15) & (data['LAT'] > -6) &\n",
    "        (data['MW'] >= 6.3) &\n",
    "           (data['CLASS'] == 'MTHRUST') &\n",
    "           (data['YEARS'] > t1) & (data['YEARS'] < t2)]\n",
    "\n",
    "print('Megathrust')\n",
    "# print('Max depth', data_mt.DEPTH.max())\n",
    "# print('Max mag', data_mt.MW.max())\n",
    "# print('Min mag', data_mt.MW.min())\n",
    "print(data_mt[['LAT','LON','DEPTH', 'YEARS', 'MW', 'DATE', 'CLASS', 'TYPE']])"
   ]
  },
  {
   "cell_type": "code",
   "execution_count": 7,
   "metadata": {},
   "outputs": [
    {
     "name": "stdout",
     "output_type": "stream",
     "text": [
      "Green band\n",
      "Long slab\n",
      "       LAT      LON  DEPTH      YEARS   MW        DATE   CLASS  TYPE\n",
      "324 -6.197  112.087  632.7 -23.391889  6.1  1981-08-11  DGOING  NORM\n",
      "Megathrust\n",
      "        LAT      LON  DEPTH      YEARS   MW        DATE    CLASS    TYPE\n",
      "2170 -4.467  101.946   46.8 -25.137003  6.3  1979-11-13  MTHRUST  THRUST\n",
      "96   -5.384  103.047   47.3 -24.394644  6.4  1980-08-10  MTHRUST  THRUST\n"
     ]
    }
   ],
   "source": [
    "# green band\n",
    "t1 = -26\n",
    "t2 = -23\n",
    "\n",
    "data_dg = data_dgoing[(data_dgoing['YEARS'] > t1) & (data_dgoing['YEARS'] < t2)]\n",
    "\n",
    "print('Green band')\n",
    "print('Long slab')\n",
    "# print('Max depth', data_dg.DEPTH.max())\n",
    "# print('Max mag', data_dg.MW.max())\n",
    "# print('Min mag', data_dg.MW.min())\n",
    "print(data_dg[['LAT','LON','DEPTH', 'YEARS', 'MW', 'DATE', 'CLASS', 'TYPE']])\n",
    "\n",
    "\n",
    "data_mt = data[(data['LAT'] < 15) & (data['LAT'] > -6) &\n",
    "        (data['MW'] >= 6.3) &\n",
    "           (data['CLASS'] == 'MTHRUST') &\n",
    "           (data['YEARS'] > t1) & (data['YEARS'] < t2)]\n",
    "\n",
    "print('Megathrust')\n",
    "# print('Max depth', data_mt.DEPTH.max())\n",
    "# print('Max mag', data_mt.MW.max())\n",
    "# print('Min mag', data_mt.MW.min())\n",
    "print(data_mt[['LAT','LON','DEPTH', 'YEARS', 'MW', 'DATE', 'CLASS', 'TYPE']])"
   ]
  },
  {
   "cell_type": "code",
   "execution_count": 8,
   "metadata": {},
   "outputs": [
    {
     "name": "stdout",
     "output_type": "stream",
     "text": [
      "Orange band\n",
      "Long slab\n",
      "       LAT      LON  DEPTH      YEARS   MW        DATE   CLASS  TYPE\n",
      "398 -5.771  111.228  537.6 -20.313487  6.6  1984-09-07  DGOING   ODD\n",
      "255 -6.086  113.434  589.4 -19.395793  6.2  1985-08-08  DGOING  NORM\n",
      "Megathrust\n",
      "        LAT     LON  DEPTH      YEARS   MW        DATE    CLASS    TYPE\n",
      "1361  0.173  97.953   28.1 -20.120661  7.1  1984-11-17  MTHRUST  THRUST\n"
     ]
    }
   ],
   "source": [
    "# orange band\n",
    "t1 = -21\n",
    "t2 = -16\n",
    "\n",
    "data_dg = data_dgoing[(data_dgoing['YEARS'] > t1) & (data_dgoing['YEARS'] < t2)]\n",
    "\n",
    "print('Orange band')\n",
    "print('Long slab')\n",
    "# print('Max depth', data_dg.DEPTH.max())\n",
    "# print('Max mag', data_dg.MW.max())\n",
    "# print('Min mag', data_dg.MW.min())\n",
    "print(data_dg[['LAT','LON','DEPTH', 'YEARS', 'MW', 'DATE', 'CLASS', 'TYPE']])\n",
    "\n",
    "\n",
    "data_mt = data[(data['LAT'] < 15) & (data['LAT'] > -6) &\n",
    "        (data['MW'] >= 6.3) &\n",
    "           (data['CLASS'] == 'MTHRUST') &\n",
    "           (data['YEARS'] > t1) & (data['YEARS'] < t2)]\n",
    "\n",
    "print('Megathrust')\n",
    "# print('Max depth', data_mt.DEPTH.max())\n",
    "# print('Max mag', data_mt.MW.max())\n",
    "# print('Min mag', data_mt.MW.min())\n",
    "print(data_mt[['LAT','LON','DEPTH', 'YEARS', 'MW', 'DATE', 'CLASS', 'TYPE']])"
   ]
  },
  {
   "cell_type": "code",
   "execution_count": 9,
   "metadata": {},
   "outputs": [
    {
     "name": "stdout",
     "output_type": "stream",
     "text": [
      "Maroon band\n",
      "Long slab\n",
      "       LAT      LON  DEPTH      YEARS   MW        DATE   CLASS  TYPE\n",
      "323 -6.065  112.068  624.2 -12.887688  6.6  1992-02-09  DGOING  NORM\n",
      "Megathrust\n",
      "      LAT      LON  DEPTH      YEARS   MW        DATE    CLASS    TYPE\n",
      "95 -5.469  102.897   28.4 -12.697382  6.6  1992-04-18  MTHRUST  THRUST\n",
      "98 -5.758  103.032   38.3 -12.574554  6.3  1992-06-02  MTHRUST  THRUST\n"
     ]
    }
   ],
   "source": [
    "# maroon band\n",
    "t1 = -13\n",
    "t2 = -12\n",
    "\n",
    "data_dg = data_dgoing[(data_dgoing['YEARS'] > t1) & (data_dgoing['YEARS'] < t2)]\n",
    "\n",
    "print('Maroon band')\n",
    "print('Long slab')\n",
    "# print('Max depth', data_dg.DEPTH.max())\n",
    "# print('Max mag', data_dg.MW.max())\n",
    "# print('Min mag', data_dg.MW.min())\n",
    "print(data_dg[['LAT','LON','DEPTH', 'YEARS', 'MW', 'DATE', 'CLASS', 'TYPE']])\n",
    "\n",
    "\n",
    "data_mt = data[(data['LAT'] < 15) & (data['LAT'] > -6) &\n",
    "        (data['MW'] >= 6.3) &\n",
    "           (data['CLASS'] == 'MTHRUST') &\n",
    "           (data['YEARS'] > t1) & (data['YEARS'] < t2)]\n",
    "\n",
    "print('Megathrust')\n",
    "# print('Max depth', data_mt.DEPTH.max())\n",
    "# print('Max mag', data_mt.MW.max())\n",
    "# print('Min mag', data_mt.MW.min())\n",
    "print(data_mt[['LAT','LON','DEPTH', 'YEARS', 'MW', 'DATE', 'CLASS', 'TYPE']])"
   ]
  },
  {
   "cell_type": "code",
   "execution_count": 10,
   "metadata": {},
   "outputs": [
    {
     "name": "stdout",
     "output_type": "stream",
     "text": [
      "Purple band\n",
      "Long slab\n",
      "       LAT      LON  DEPTH      YEARS   MW        DATE   CLASS  TYPE\n",
      "374 -5.806  110.310  637.6 -10.252281  6.6  1994-09-28  DGOING  NORM\n",
      "377 -5.801  110.377  639.7 -10.252224  6.0  1994-09-28  DGOING  NORM\n",
      "375 -5.671  110.169  561.9 -10.119079  6.5  1994-11-15  DGOING  NORM\n",
      "Megathrust\n",
      "        LAT      LON  DEPTH      YEARS   MW        DATE    CLASS    TYPE\n",
      "944  -2.003   99.715   20.2 -10.146476  6.4  1994-11-05  MTHRUST  THRUST\n",
      "2056 -4.996  103.140   40.0  -9.635957  6.3  1995-05-11  MTHRUST  THRUST\n"
     ]
    }
   ],
   "source": [
    "# purple band\n",
    "t1 = -11\n",
    "t2 = -8\n",
    "\n",
    "data_dg = data_dgoing[(data_dgoing['YEARS'] > t1) & (data_dgoing['YEARS'] < t2)]\n",
    "\n",
    "print('Purple band')\n",
    "print('Long slab')\n",
    "# print('Max depth', data_dg.DEPTH.max())\n",
    "# print('Max mag', data_dg.MW.max())\n",
    "# print('Min mag', data_dg.MW.min())\n",
    "print(data_dg[['LAT','LON','DEPTH', 'YEARS', 'MW', 'DATE', 'CLASS', 'TYPE']])\n",
    "\n",
    "\n",
    "data_mt = data[(data['LAT'] < 15) & (data['LAT'] > -6) &\n",
    "        (data['MW'] >= 6.3) &\n",
    "           (data['CLASS'] == 'MTHRUST') &\n",
    "           (data['YEARS'] > t1) & (data['YEARS'] < t2)]\n",
    "\n",
    "print('Megathrust')\n",
    "# print('Max depth', data_mt.DEPTH.max())\n",
    "# print('Max mag', data_mt.MW.max())\n",
    "# print('Min mag', data_mt.MW.min())\n",
    "print(data_mt[['LAT','LON','DEPTH', 'YEARS', 'MW', 'DATE', 'CLASS', 'TYPE']])"
   ]
  },
  {
   "cell_type": "code",
   "execution_count": 11,
   "metadata": {},
   "outputs": [
    {
     "name": "stdout",
     "output_type": "stream",
     "text": [
      "Cyan band\n",
      "Long slab\n",
      "Empty DataFrame\n",
      "Columns: [LAT, LON, DEPTH, YEARS, MW, DATE, CLASS, TYPE]\n",
      "Index: []\n",
      "Megathrust\n",
      "        LAT     LON  DEPTH     YEARS   MW        DATE    CLASS    TYPE\n",
      "1516 -0.565  99.191   34.4 -6.980827  6.9  1998-01-04  MTHRUST  THRUST\n"
     ]
    }
   ],
   "source": [
    "# cyan band\n",
    "t1 = -8\n",
    "t2 = -6\n",
    "\n",
    "data_dg = data_dgoing[(data_dgoing['YEARS'] > t1) & (data_dgoing['YEARS'] < t2)]\n",
    "\n",
    "print('Cyan band')\n",
    "print('Long slab')\n",
    "# print('Max depth', data_dg.DEPTH.max())\n",
    "# print('Max mag', data_dg.MW.max())\n",
    "# print('Min mag', data_dg.MW.min())\n",
    "print(data_dg[['LAT','LON','DEPTH', 'YEARS', 'MW', 'DATE', 'CLASS', 'TYPE']])\n",
    "\n",
    "\n",
    "data_mt = data[(data['LAT'] < 15) & (data['LAT'] > -6) &\n",
    "        (data['MW'] >= 6.3) &\n",
    "           (data['CLASS'] == 'MTHRUST') &\n",
    "           (data['YEARS'] > t1) & (data['YEARS'] < t2)]\n",
    "\n",
    "print('Megathrust')\n",
    "# print('Max depth', data_mt.DEPTH.max())\n",
    "# print('Max mag', data_mt.MW.max())\n",
    "# print('Min mag', data_mt.MW.min())\n",
    "print(data_mt[['LAT','LON','DEPTH', 'YEARS', 'MW', 'DATE', 'CLASS', 'TYPE']])"
   ]
  },
  {
   "cell_type": "code",
   "execution_count": 12,
   "metadata": {},
   "outputs": [
    {
     "name": "stdout",
     "output_type": "stream",
     "text": [
      "Red band\n",
      "Long slab\n",
      "        LAT      LON  DEPTH     YEARS   MW        DATE   CLASS    TYPE\n",
      "2549 -7.167  117.443  521.9 -3.860273  6.0  2001-02-16  DGOING    NORM\n",
      "131  -7.545  115.616  316.0 -2.800015  6.0  2002-03-10  DGOING  THRUST\n",
      "Megathrust\n",
      "        LAT      LON  DEPTH     YEARS   MW        DATE    CLASS    TYPE\n",
      "566  -4.074  101.597   34.1 -3.945470  6.8  2001-01-16  MTHRUST  THRUST\n",
      "2054 -4.837  102.365   34.0 -3.868836  7.3  2001-02-13  MTHRUST  THRUST\n",
      "1758  2.837   96.078   28.9 -2.874320  7.2  2002-02-11  MTHRUST  THRUST\n",
      "1760  2.930   96.380   27.0 -2.874091  6.3  2002-02-11  MTHRUST  THRUST\n"
     ]
    }
   ],
   "source": [
    "# red band\n",
    "t1 = -5\n",
    "t2 = -2\n",
    "\n",
    "data_dg = data_dgoing[(data_dgoing['YEARS'] > t1) & (data_dgoing['YEARS'] < t2)]\n",
    "\n",
    "print('Red band')\n",
    "print('Long slab')\n",
    "# print('Max depth', data_dg.DEPTH.max())\n",
    "# print('Max mag', data_dg.MW.max())\n",
    "# print('Min mag', data_dg.MW.min())\n",
    "print(data_dg[['LAT','LON','DEPTH', 'YEARS', 'MW', 'DATE', 'CLASS', 'TYPE']])\n",
    "\n",
    "\n",
    "data_mt = data[(data['LAT'] < 15) & (data['LAT'] > -6) &\n",
    "        (data['MW'] >= 6.3) &\n",
    "           (data['CLASS'] == 'MTHRUST') &\n",
    "           (data['YEARS'] > t1) & (data['YEARS'] < t2)]\n",
    "\n",
    "print('Megathrust')\n",
    "# print('Max depth', data_mt.DEPTH.max())\n",
    "# print('Max mag', data_mt.MW.max())\n",
    "# print('Min mag', data_mt.MW.min())\n",
    "print(data_mt[['LAT','LON','DEPTH', 'YEARS', 'MW', 'DATE', 'CLASS', 'TYPE']])"
   ]
  },
  {
   "cell_type": "code",
   "execution_count": 13,
   "metadata": {},
   "outputs": [
    {
     "name": "stdout",
     "output_type": "stream",
     "text": [
      "Yellow band\n",
      "Long slab\n",
      "        LAT      LON  DEPTH     YEARS   MW        DATE   CLASS  TYPE\n",
      "2223 -2.532  103.932  582.2 -0.422066  7.3  2004-07-25  DGOING  NORM\n",
      "Megathrust\n",
      "        LAT     LON  DEPTH     YEARS   MW        DATE    CLASS    TYPE\n",
      "1426  3.299  95.876   28.6  0.000000  9.0  2004-12-26  MTHRUST  THRUST\n",
      "835   6.930  92.906   45.7  0.001815  7.2  2004-12-26  MTHRUST  THRUST\n",
      "2625  3.026  97.459   25.8  0.252502  8.6  2005-03-28  MTHRUST     NaN\n"
     ]
    }
   ],
   "source": [
    "# yellow band\n",
    "t1 = -1\n",
    "t2 = 1\n",
    "\n",
    "data_dg = data_dgoing[(data_dgoing['YEARS'] > t1) & (data_dgoing['YEARS'] < t2)]\n",
    "\n",
    "print('Yellow band')\n",
    "print('Long slab')\n",
    "# print('Max depth', data_dg.DEPTH.max())\n",
    "# print('Max mag', data_dg.MW.max())\n",
    "# print('Min mag', data_dg.MW.min())\n",
    "print(data_dg[['LAT','LON','DEPTH', 'YEARS', 'MW', 'DATE', 'CLASS', 'TYPE']])\n",
    "\n",
    "\n",
    "data_mt = data[(data['LAT'] < 15) & (data['LAT'] > -6) &\n",
    "        (data['MW'] >= 7) & # removed foreshocks and aftershocks\n",
    "           (data['CLASS'] == 'MTHRUST') &\n",
    "           (data['YEARS'] > t1) & (data['YEARS'] < t2)]\n",
    "\n",
    "print('Megathrust')\n",
    "# print('Max depth', data_mt.DEPTH.max())\n",
    "# print('Max mag', data_mt.MW.max())\n",
    "# print('Min mag', data_mt.MW.min())\n",
    "print(data_mt[['LAT','LON','DEPTH', 'YEARS', 'MW', 'DATE', 'CLASS', 'TYPE']])"
   ]
  },
  {
   "cell_type": "code",
   "execution_count": 14,
   "metadata": {},
   "outputs": [
    {
     "name": "stdout",
     "output_type": "stream",
     "text": [
      "Grey band\n",
      "Long slab\n",
      "       LAT      LON  DEPTH     YEARS   MW        DATE   CLASS TYPE\n",
      "424 -5.917  107.423  295.0  2.616422  7.5  2007-08-08  DGOING  ODD\n",
      "Megathrust\n",
      "        LAT      LON  DEPTH     YEARS   MW        DATE    CLASS    TYPE\n",
      "939  -2.174   99.538   20.0  2.714922  7.0  2007-09-13  MTHRUST  THRUST\n",
      "2169 -4.458  101.359   32.0  2.953983  8.5  2007-12-09  MTHRUST  THRUST\n"
     ]
    }
   ],
   "source": [
    "# grey band\n",
    "t1 = 2\n",
    "t2 = 3\n",
    "\n",
    "data_dg = data_dgoing[(data_dgoing['YEARS'] > t1) & (data_dgoing['YEARS'] < t2)]\n",
    "\n",
    "print('Grey band')\n",
    "print('Long slab')\n",
    "# print('Max depth', data_dg.DEPTH.max())\n",
    "# print('Max mag', data_dg.MW.max())\n",
    "# print('Min mag', data_dg.MW.min())\n",
    "print(data_dg[['LAT','LON','DEPTH', 'YEARS', 'MW', 'DATE', 'CLASS', 'TYPE']])\n",
    "\n",
    "\n",
    "data_mt = data[(data['LAT'] < 15) & (data['LAT'] > -6) &\n",
    "        (data['MW'] >= 7) &\n",
    "           (data['CLASS'] == 'MTHRUST') &\n",
    "           (data['YEARS'] > t1) & (data['YEARS'] < t2)]\n",
    "\n",
    "print('Megathrust')\n",
    "# print('Max depth', data_mt.DEPTH.max())\n",
    "# print('Max mag', data_mt.MW.max())\n",
    "# print('Min mag', data_mt.MW.min())\n",
    "print(data_mt[['LAT','LON','DEPTH', 'YEARS', 'MW', 'DATE', 'CLASS', 'TYPE']])"
   ]
  },
  {
   "cell_type": "code",
   "execution_count": 15,
   "metadata": {},
   "outputs": [
    {
     "name": "stdout",
     "output_type": "stream",
     "text": [
      "After 2007 EQ\n",
      "Long slab\n",
      "        LAT      LON  DEPTH     YEARS   MW        DATE   CLASS    TYPE\n",
      "2594 -6.917  116.753  517.4  6.772934  6.6  2011-10-03  DGOING    NORM\n",
      "2468 -7.298  119.944  544.5  8.742238  6.1  2013-09-21  DGOING  O_NORM\n",
      "Megathrust\n",
      "        LAT      LON  DEPTH     YEARS   MW        DATE    CLASS    TYPE\n",
      "1757  2.742   95.933   32.0  3.153756  7.3  2008-02-20  MTHRUST  THRUST\n",
      "648  -2.491   99.889   30.9  3.166891  7.2  2008-02-25  MTHRUST  THRUST\n",
      "1943  2.391   97.084   31.8  5.442221  7.8  2010-06-04  MTHRUST  THRUST\n",
      "1427  3.750   96.028   41.4  5.695892  7.2  2010-09-05  MTHRUST  THRUST\n",
      "487  -3.502  100.097   22.8  5.832788  7.8  2010-10-25  MTHRUST  THRUST\n"
     ]
    }
   ],
   "source": [
    "# No correlation after great meagthrust earthquakes\n",
    "\n",
    "t1 = 3\n",
    "t2 = 10\n",
    "\n",
    "data_dg = data_dgoing[(data_dgoing['YEARS'] > t1) & (data_dgoing['YEARS'] < t2)]\n",
    "\n",
    "print('After 2007 EQ')\n",
    "print('Long slab')\n",
    "\n",
    "print(data_dg[['LAT','LON','DEPTH', 'YEARS', 'MW', 'DATE', 'CLASS', 'TYPE']])\n",
    "\n",
    "\n",
    "data_mt = data[(data['LAT'] < 15) & (data['LAT'] > -6) &\n",
    "        (data['MW'] >= 7) &\n",
    "           (data['CLASS'] == 'MTHRUST') &\n",
    "           (data['YEARS'] > t1) & (data['YEARS'] < t2)]\n",
    "\n",
    "\n",
    "print('Megathrust')\n",
    "# print('Max depth', data_mt.DEPTH.max())\n",
    "# print('Max mag', data_mt.MW.max())\n",
    "# print('Min mag', data_mt.MW.min())\n",
    "print(data_mt[['LAT','LON','DEPTH', 'YEARS', 'MW', 'DATE', 'CLASS', 'TYPE']])"
   ]
  },
  {
   "cell_type": "code",
   "execution_count": 21,
   "metadata": {},
   "outputs": [
    {
     "name": "stdout",
     "output_type": "stream",
     "text": [
      "After 2007 EQ\n",
      "Long slab\n",
      "        LAT      LON  DEPTH     YEARS   MW        DATE   CLASS      TYPE\n",
      "2599 -7.655  116.811  324.1  3.519615  5.7  2008-07-02  DGOING  O_THRUST\n",
      "384  -5.642  110.067  544.2  3.876710  5.2  2008-11-10  DGOING      NORM\n",
      "270  -6.105  112.872  593.6  5.703943  5.3  2010-09-08  DGOING      NORM\n",
      "2597 -7.069  116.935  615.9  6.926926  5.8  2011-11-28  DGOING    O_NORM\n",
      "2615 -7.700  117.120  301.3  8.643859  5.1  2013-08-16  DGOING    THRUST\n",
      "2616 -7.667  117.044  299.1  9.443144  5.1  2014-06-03  DGOING    THRUST\n",
      "2550 -7.008  117.494  542.3  9.849989  5.8  2014-10-30  DGOING    O_NORM\n",
      "Megathrust\n",
      "        LAT      LON  DEPTH     YEARS   MW        DATE    CLASS    TYPE\n",
      "1757  2.742   95.933   32.0  3.153756  7.3  2008-02-20  MTHRUST  THRUST\n",
      "648  -2.491   99.889   30.9  3.166891  7.2  2008-02-25  MTHRUST  THRUST\n",
      "1943  2.391   97.084   31.8  5.442221  7.8  2010-06-04  MTHRUST  THRUST\n",
      "1427  3.750   96.028   41.4  5.695892  7.2  2010-09-05  MTHRUST  THRUST\n",
      "487  -3.502  100.097   22.8  5.832788  7.8  2010-10-25  MTHRUST  THRUST\n"
     ]
    }
   ],
   "source": [
    "# Mw < 6 in the long slab after 2007\n",
    "\n",
    "\n",
    "data_dgoing = data.loc[data['CLASS'] == 'DGOING']\n",
    "data_dgoing = data_dgoing[(data_dgoing['LAT'] <= -2) & (data_dgoing['LON'] <= 120) &\n",
    "                         (data_dgoing['DEPTH'] > 290) & (data_dgoing['DEPTH'] < 700) &\n",
    "                         (data_dgoing['MW'] < 6 )]\n",
    "\n",
    "t1 = 3\n",
    "t2 = 10\n",
    "\n",
    "data_dg = data_dgoing[(data_dgoing['YEARS'] > t1)]\n",
    "\n",
    "print('After 2007 EQ')\n",
    "print('Long slab')\n",
    "\n",
    "print(data_dg[['LAT','LON','DEPTH', 'YEARS', 'MW', 'DATE', 'CLASS', 'TYPE']])\n",
    "\n",
    "\n",
    "data_mt = data[(data['LAT'] < 15) & (data['LAT'] > -6) &\n",
    "        (data['MW'] >= 7) &\n",
    "           (data['CLASS'] == 'MTHRUST') &\n",
    "           (data['YEARS'] > t1) & (data['YEARS'] < t2)]\n",
    "\n",
    "\n",
    "print('Megathrust')\n",
    "# print('Max depth', data_mt.DEPTH.max())\n",
    "# print('Max mag', data_mt.MW.max())\n",
    "# print('Min mag', data_mt.MW.min())\n",
    "print(data_mt[['LAT','LON','DEPTH', 'YEARS', 'MW', 'DATE', 'CLASS', 'TYPE']])"
   ]
  },
  {
   "cell_type": "code",
   "execution_count": null,
   "metadata": {},
   "outputs": [],
   "source": []
  }
 ],
 "metadata": {
  "kernelspec": {
   "display_name": "Python 3",
   "language": "python",
   "name": "python3"
  },
  "language_info": {
   "codemirror_mode": {
    "name": "ipython",
    "version": 3
   },
   "file_extension": ".py",
   "mimetype": "text/x-python",
   "name": "python",
   "nbconvert_exporter": "python",
   "pygments_lexer": "ipython3",
   "version": "3.7.6"
  }
 },
 "nbformat": 4,
 "nbformat_minor": 4
}
